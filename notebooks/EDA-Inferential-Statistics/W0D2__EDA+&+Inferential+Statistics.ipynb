{
 "cells": [
  {
   "cell_type": "markdown",
   "metadata": {},
   "source": [
    "# <center> **Exploratory Data Analysis** \n",
    "\n",
    "---\n",
    "\n",
    "<center><img src=\"quote.PNG\"></center>"
   ]
  },
  {
   "cell_type": "markdown",
   "metadata": {},
   "source": [
    "# <center> **What Is Exploratory Data Analysis and Why should we care?**\n",
    "\n",
    "> Many data scientists will agree that it is very easy to get lost in data—the more you collect, study and analyze, the more you want to explore. Rabbit holes of information are familiar and friendly places for data analysts and data scientists to dive into and spend hours extracting, modeling and analyzing these large datasets.\n",
    "\n",
    "> Data is collected and housed in some sort of data repository. It could be as simple as a spreadsheet or as complex as a database that comprises multiple spreadsheets or datasets. Generally, the rows in a database are individual records while the columns are the various characteristics of each record. **But the human eye (and brain) can only scan so much data to analyze and learn from it. Exploratory data analysis allows analysts, scientists and business leaders to use visual tools to learn from the data.** "
   ]
  },
  {
   "cell_type": "markdown",
   "metadata": {},
   "source": [
    "### **Broader Classification**\n",
    "\n",
    "> * Univariate Tabular <br>\n",
    "> * Univariate Graphical <br>\n",
    "> * Multi-variate Tabular <br>\n",
    "> * Multi-variate Graphical"
   ]
  },
  {
   "cell_type": "code",
   "execution_count": 1,
   "metadata": {
    "collapsed": true
   },
   "outputs": [],
   "source": [
    "# Same sample as D1\n",
    "import pandas as pd\n",
    "df = pd.read_csv(\"Sample10k_Building_Permits.csv\", sep=',', header=0)"
   ]
  },
  {
   "cell_type": "code",
   "execution_count": 44,
   "metadata": {},
   "outputs": [],
   "source": [
    "cols_to_keep = ['Permit Number', 'Permit Type', 'Permit Creation Date', 'Permit Type Definition', \\\n",
    "                'Number of Existing Stories', 'Number of Proposed Stories',\\\n",
    "                'Estimated Cost', 'Revised Cost',\\\n",
    "                'Supervisor District', 'Neighborhoods - Analysis Boundaries', 'Zipcode']\n",
    "df2 = df[cols_to_keep].copy()"
   ]
  },
  {
   "cell_type": "code",
   "execution_count": 3,
   "metadata": {},
   "outputs": [
    {
     "data": {
      "text/html": [
       "<div>\n",
       "<style scoped>\n",
       "    .dataframe tbody tr th:only-of-type {\n",
       "        vertical-align: middle;\n",
       "    }\n",
       "\n",
       "    .dataframe tbody tr th {\n",
       "        vertical-align: top;\n",
       "    }\n",
       "\n",
       "    .dataframe thead th {\n",
       "        text-align: right;\n",
       "    }\n",
       "</style>\n",
       "<table border=\"1\" class=\"dataframe\">\n",
       "  <thead>\n",
       "    <tr style=\"text-align: right;\">\n",
       "      <th></th>\n",
       "      <th>Permit Number</th>\n",
       "      <th>Permit Type</th>\n",
       "      <th>Permit Creation Date</th>\n",
       "      <th>Permit Type Definition</th>\n",
       "      <th>Number of Existing Stories</th>\n",
       "      <th>Number of Proposed Stories</th>\n",
       "      <th>Estimated Cost</th>\n",
       "      <th>Revised Cost</th>\n",
       "      <th>Supervisor District</th>\n",
       "      <th>Neighborhoods - Analysis Boundaries</th>\n",
       "      <th>Zipcode</th>\n",
       "    </tr>\n",
       "  </thead>\n",
       "  <tbody>\n",
       "    <tr>\n",
       "      <th>0</th>\n",
       "      <td>M766848</td>\n",
       "      <td>8</td>\n",
       "      <td>03/08/2017</td>\n",
       "      <td>otc alterations permit</td>\n",
       "      <td>NaN</td>\n",
       "      <td>NaN</td>\n",
       "      <td>NaN</td>\n",
       "      <td>1.0</td>\n",
       "      <td>6.0</td>\n",
       "      <td>Mission</td>\n",
       "      <td>94103.0</td>\n",
       "    </tr>\n",
       "    <tr>\n",
       "      <th>1</th>\n",
       "      <td>M762447</td>\n",
       "      <td>8</td>\n",
       "      <td>02/21/2017</td>\n",
       "      <td>otc alterations permit</td>\n",
       "      <td>NaN</td>\n",
       "      <td>NaN</td>\n",
       "      <td>NaN</td>\n",
       "      <td>1.0</td>\n",
       "      <td>NaN</td>\n",
       "      <td>NaN</td>\n",
       "      <td>NaN</td>\n",
       "    </tr>\n",
       "    <tr>\n",
       "      <th>2</th>\n",
       "      <td>201507161644</td>\n",
       "      <td>3</td>\n",
       "      <td>07/16/2015</td>\n",
       "      <td>additions alterations or repairs</td>\n",
       "      <td>2.0</td>\n",
       "      <td>9.0</td>\n",
       "      <td>6500000.0</td>\n",
       "      <td>11466000.0</td>\n",
       "      <td>3.0</td>\n",
       "      <td>Nob Hill</td>\n",
       "      <td>94109.0</td>\n",
       "    </tr>\n",
       "    <tr>\n",
       "      <th>3</th>\n",
       "      <td>201610049499</td>\n",
       "      <td>8</td>\n",
       "      <td>10/04/2016</td>\n",
       "      <td>otc alterations permit</td>\n",
       "      <td>2.0</td>\n",
       "      <td>2.0</td>\n",
       "      <td>40000.0</td>\n",
       "      <td>100000.0</td>\n",
       "      <td>4.0</td>\n",
       "      <td>Sunset/Parkside</td>\n",
       "      <td>94122.0</td>\n",
       "    </tr>\n",
       "    <tr>\n",
       "      <th>4</th>\n",
       "      <td>M470307</td>\n",
       "      <td>8</td>\n",
       "      <td>03/12/2014</td>\n",
       "      <td>otc alterations permit</td>\n",
       "      <td>NaN</td>\n",
       "      <td>NaN</td>\n",
       "      <td>NaN</td>\n",
       "      <td>1.0</td>\n",
       "      <td>2.0</td>\n",
       "      <td>Marina</td>\n",
       "      <td>94123.0</td>\n",
       "    </tr>\n",
       "  </tbody>\n",
       "</table>\n",
       "</div>"
      ],
      "text/plain": [
       "  Permit Number  Permit Type Permit Creation Date  \\\n",
       "0       M766848            8           03/08/2017   \n",
       "1       M762447            8           02/21/2017   \n",
       "2  201507161644            3           07/16/2015   \n",
       "3  201610049499            8           10/04/2016   \n",
       "4       M470307            8           03/12/2014   \n",
       "\n",
       "             Permit Type Definition  Number of Existing Stories  \\\n",
       "0            otc alterations permit                         NaN   \n",
       "1            otc alterations permit                         NaN   \n",
       "2  additions alterations or repairs                         2.0   \n",
       "3            otc alterations permit                         2.0   \n",
       "4            otc alterations permit                         NaN   \n",
       "\n",
       "   Number of Proposed Stories  Estimated Cost  Revised Cost  \\\n",
       "0                         NaN             NaN           1.0   \n",
       "1                         NaN             NaN           1.0   \n",
       "2                         9.0       6500000.0    11466000.0   \n",
       "3                         2.0         40000.0      100000.0   \n",
       "4                         NaN             NaN           1.0   \n",
       "\n",
       "   Supervisor District Neighborhoods - Analysis Boundaries  Zipcode  \n",
       "0                  6.0                             Mission  94103.0  \n",
       "1                  NaN                                 NaN      NaN  \n",
       "2                  3.0                            Nob Hill  94109.0  \n",
       "3                  4.0                     Sunset/Parkside  94122.0  \n",
       "4                  2.0                              Marina  94123.0  "
      ]
     },
     "execution_count": 3,
     "metadata": {},
     "output_type": "execute_result"
    }
   ],
   "source": [
    "df2.head()"
   ]
  },
  {
   "cell_type": "code",
   "execution_count": 4,
   "metadata": {},
   "outputs": [
    {
     "data": {
      "text/plain": [
       "8"
      ]
     },
     "execution_count": 4,
     "metadata": {},
     "output_type": "execute_result"
    }
   ],
   "source": [
    "# NO NULLS\n",
    "df2[\"Permit Type\"].nunique()"
   ]
  },
  {
   "cell_type": "code",
   "execution_count": 5,
   "metadata": {},
   "outputs": [
    {
     "data": {
      "text/plain": [
       "array([8, 3, 4, 7, 6, 1, 2, 5], dtype=int64)"
      ]
     },
     "execution_count": 5,
     "metadata": {},
     "output_type": "execute_result"
    }
   ],
   "source": [
    "# NO NULLS\n",
    "df2[\"Permit Type\"].unique()"
   ]
  },
  {
   "cell_type": "code",
   "execution_count": 6,
   "metadata": {
    "collapsed": true
   },
   "outputs": [
    {
     "data": {
      "text/plain": [
       "array(['Mission', nan, 'Nob Hill', 'Sunset/Parkside', 'Marina',\n",
       "       'Russian Hill', 'Bernal Heights', 'Twin Peaks', 'Noe Valley',\n",
       "       'Pacific Heights', 'Tenderloin', 'South of Market',\n",
       "       'Financial District/South Beach', 'Bayview Hunters Point',\n",
       "       'Potrero Hill', 'West of Twin Peaks', 'Lakeshore',\n",
       "       'Outer Richmond', 'Castro/Upper Market', 'Chinatown',\n",
       "       'Inner Sunset', 'Haight Ashbury', 'Western Addition',\n",
       "       'Hayes Valley', 'Presidio Heights', 'Japantown',\n",
       "       'Oceanview/Merced/Ingleside', 'North Beach', 'Mission Bay',\n",
       "       'Excelsior', 'Portola', 'Lone Mountain/USF', 'Inner Richmond',\n",
       "       'Glen Park', 'Visitacion Valley', 'Seacliff', 'Outer Mission',\n",
       "       'McLaren Park', 'Treasure Island', 'Presidio', 'Golden Gate Park',\n",
       "       'Lincoln Park'], dtype=object)"
      ]
     },
     "execution_count": 6,
     "metadata": {},
     "output_type": "execute_result"
    }
   ],
   "source": [
    "# WITH NULLS\n",
    "df2[\"Neighborhoods - Analysis Boundaries\"].unique()"
   ]
  },
  {
   "cell_type": "code",
   "execution_count": 7,
   "metadata": {
    "collapsed": true
   },
   "outputs": [
    {
     "data": {
      "text/plain": [
       "41"
      ]
     },
     "execution_count": 7,
     "metadata": {},
     "output_type": "execute_result"
    }
   ],
   "source": [
    "# WITH NULLS\n",
    "df2[\"Neighborhoods - Analysis Boundaries\"].nunique()"
   ]
  },
  {
   "cell_type": "code",
   "execution_count": 8,
   "metadata": {},
   "outputs": [
    {
     "data": {
      "text/plain": [
       "array(['otc alterations permit', 'additions alterations or repairs',\n",
       "       'sign - erect', 'wall or painted sign', 'demolitions',\n",
       "       'new construction', 'new construction wood frame',\n",
       "       'grade or quarry or fill or excavate'], dtype=object)"
      ]
     },
     "execution_count": 8,
     "metadata": {},
     "output_type": "execute_result"
    }
   ],
   "source": [
    "df2[\"Permit Type Definition\"].unique()"
   ]
  },
  {
   "cell_type": "code",
   "execution_count": 29,
   "metadata": {
    "collapsed": true
   },
   "outputs": [
    {
     "data": {
      "text/plain": [
       "otc alterations permit                 8938\n",
       "additions alterations or repairs        742\n",
       "sign - erect                            183\n",
       "new construction wood frame              43\n",
       "demolitions                              41\n",
       "wall or painted sign                     30\n",
       "new construction                         16\n",
       "grade or quarry or fill or excavate       7\n",
       "Name: Permit Type Definition, dtype: int64"
      ]
     },
     "execution_count": 29,
     "metadata": {},
     "output_type": "execute_result"
    }
   ],
   "source": [
    "df2[\"Permit Type Definition\"].value_counts()"
   ]
  },
  {
   "cell_type": "code",
   "execution_count": 9,
   "metadata": {
    "collapsed": true
   },
   "outputs": [
    {
     "data": {
      "text/plain": [
       "Permit Number                             0\n",
       "Permit Type                               0\n",
       "Permit Creation Date                      0\n",
       "Permit Type Definition                    0\n",
       "Number of Existing Stories             2123\n",
       "Number of Proposed Stories             2181\n",
       "Estimated Cost                         1898\n",
       "Revised Cost                            307\n",
       "Supervisor District                      83\n",
       "Neighborhoods - Analysis Boundaries      83\n",
       "Zipcode                                  83\n",
       "dtype: int64"
      ]
     },
     "execution_count": 9,
     "metadata": {},
     "output_type": "execute_result"
    }
   ],
   "source": [
    "df2.isna().sum()"
   ]
  },
  {
   "cell_type": "code",
   "execution_count": 30,
   "metadata": {},
   "outputs": [
    {
     "data": {
      "text/plain": [
       "dtype('O')"
      ]
     },
     "execution_count": 30,
     "metadata": {},
     "output_type": "execute_result"
    }
   ],
   "source": [
    "df2['Permit Creation Date'].dtype"
   ]
  },
  {
   "cell_type": "code",
   "execution_count": 45,
   "metadata": {},
   "outputs": [],
   "source": [
    "df2['Permit Creation Date'] = pd.to_datetime(df2['Permit Creation Date'])"
   ]
  },
  {
   "cell_type": "code",
   "execution_count": 46,
   "metadata": {},
   "outputs": [
    {
     "data": {
      "text/plain": [
       "array([2017, 2015, 2016, 2014, 2013, 2018, 2012], dtype=int64)"
      ]
     },
     "execution_count": 46,
     "metadata": {},
     "output_type": "execute_result"
    }
   ],
   "source": [
    "df2['Permit Creation Date'].dt.year.unique()"
   ]
  },
  {
   "cell_type": "code",
   "execution_count": 48,
   "metadata": {
    "collapsed": true
   },
   "outputs": [
    {
     "data": {
      "text/plain": [
       "2012       1\n",
       "2013    1775\n",
       "2014    1827\n",
       "2015    1988\n",
       "2016    1993\n",
       "2017    2107\n",
       "2018     309\n",
       "Name: Permit Creation Date, dtype: int64"
      ]
     },
     "execution_count": 48,
     "metadata": {},
     "output_type": "execute_result"
    }
   ],
   "source": [
    "df2['Permit Creation Date'].dt.year.value_counts().sort_index()"
   ]
  },
  {
   "cell_type": "code",
   "execution_count": 53,
   "metadata": {},
   "outputs": [
    {
     "data": {
      "image/png": "[encoded data removed]",
      "text/plain": [
       "<matplotlib.figure.Figure at 0x20757f7d0b8>"
      ]
     },
     "metadata": {},
     "output_type": "display_data"
    }
   ],
   "source": [
    "dt_table = df2['Permit Creation Date'].dt.year.value_counts().sort_index()\n",
    "\n",
    "dt_table.plot(kind='bar', yticks=[500*x for x in arange(6)], title='Year-wise # of Permits', figsize=(10,5))\n",
    "\n",
    "plt.show()"
   ]
  },
  {
   "cell_type": "code",
   "execution_count": 10,
   "metadata": {
    "collapsed": true
   },
   "outputs": [],
   "source": [
    "# A VERY NAIVE WAY - BUT VALID\n",
    "#df2 = df2.fillna(0)\n",
    "df2[\"Number of Existing Stories\"] = df2[\"Number of Existing Stories\"].fillna(0)"
   ]
  },
  {
   "cell_type": "code",
   "execution_count": 11,
   "metadata": {
    "collapsed": true
   },
   "outputs": [
    {
     "data": {
      "text/html": [
       "<div>\n",
       "<style scoped>\n",
       "    .dataframe tbody tr th:only-of-type {\n",
       "        vertical-align: middle;\n",
       "    }\n",
       "\n",
       "    .dataframe tbody tr th {\n",
       "        vertical-align: top;\n",
       "    }\n",
       "\n",
       "    .dataframe thead th {\n",
       "        text-align: right;\n",
       "    }\n",
       "</style>\n",
       "<table border=\"1\" class=\"dataframe\">\n",
       "  <thead>\n",
       "    <tr style=\"text-align: right;\">\n",
       "      <th></th>\n",
       "      <th>Permit Number</th>\n",
       "      <th>Permit Type</th>\n",
       "      <th>Permit Creation Date</th>\n",
       "      <th>Permit Type Definition</th>\n",
       "      <th>Number of Existing Stories</th>\n",
       "      <th>Number of Proposed Stories</th>\n",
       "      <th>Estimated Cost</th>\n",
       "      <th>Revised Cost</th>\n",
       "      <th>Supervisor District</th>\n",
       "      <th>Neighborhoods - Analysis Boundaries</th>\n",
       "      <th>Zipcode</th>\n",
       "    </tr>\n",
       "  </thead>\n",
       "  <tbody>\n",
       "    <tr>\n",
       "      <th>0</th>\n",
       "      <td>M766848</td>\n",
       "      <td>8</td>\n",
       "      <td>03/08/2017</td>\n",
       "      <td>otc alterations permit</td>\n",
       "      <td>0.0</td>\n",
       "      <td>NaN</td>\n",
       "      <td>NaN</td>\n",
       "      <td>1.0</td>\n",
       "      <td>6.0</td>\n",
       "      <td>Mission</td>\n",
       "      <td>94103.0</td>\n",
       "    </tr>\n",
       "    <tr>\n",
       "      <th>1</th>\n",
       "      <td>M762447</td>\n",
       "      <td>8</td>\n",
       "      <td>02/21/2017</td>\n",
       "      <td>otc alterations permit</td>\n",
       "      <td>0.0</td>\n",
       "      <td>NaN</td>\n",
       "      <td>NaN</td>\n",
       "      <td>1.0</td>\n",
       "      <td>NaN</td>\n",
       "      <td>NaN</td>\n",
       "      <td>NaN</td>\n",
       "    </tr>\n",
       "    <tr>\n",
       "      <th>2</th>\n",
       "      <td>201507161644</td>\n",
       "      <td>3</td>\n",
       "      <td>07/16/2015</td>\n",
       "      <td>additions alterations or repairs</td>\n",
       "      <td>2.0</td>\n",
       "      <td>9.0</td>\n",
       "      <td>6500000.0</td>\n",
       "      <td>11466000.0</td>\n",
       "      <td>3.0</td>\n",
       "      <td>Nob Hill</td>\n",
       "      <td>94109.0</td>\n",
       "    </tr>\n",
       "    <tr>\n",
       "      <th>3</th>\n",
       "      <td>201610049499</td>\n",
       "      <td>8</td>\n",
       "      <td>10/04/2016</td>\n",
       "      <td>otc alterations permit</td>\n",
       "      <td>2.0</td>\n",
       "      <td>2.0</td>\n",
       "      <td>40000.0</td>\n",
       "      <td>100000.0</td>\n",
       "      <td>4.0</td>\n",
       "      <td>Sunset/Parkside</td>\n",
       "      <td>94122.0</td>\n",
       "    </tr>\n",
       "    <tr>\n",
       "      <th>4</th>\n",
       "      <td>M470307</td>\n",
       "      <td>8</td>\n",
       "      <td>03/12/2014</td>\n",
       "      <td>otc alterations permit</td>\n",
       "      <td>0.0</td>\n",
       "      <td>NaN</td>\n",
       "      <td>NaN</td>\n",
       "      <td>1.0</td>\n",
       "      <td>2.0</td>\n",
       "      <td>Marina</td>\n",
       "      <td>94123.0</td>\n",
       "    </tr>\n",
       "  </tbody>\n",
       "</table>\n",
       "</div>"
      ],
      "text/plain": [
       "  Permit Number  Permit Type Permit Creation Date  \\\n",
       "0       M766848            8           03/08/2017   \n",
       "1       M762447            8           02/21/2017   \n",
       "2  201507161644            3           07/16/2015   \n",
       "3  201610049499            8           10/04/2016   \n",
       "4       M470307            8           03/12/2014   \n",
       "\n",
       "             Permit Type Definition  Number of Existing Stories  \\\n",
       "0            otc alterations permit                         0.0   \n",
       "1            otc alterations permit                         0.0   \n",
       "2  additions alterations or repairs                         2.0   \n",
       "3            otc alterations permit                         2.0   \n",
       "4            otc alterations permit                         0.0   \n",
       "\n",
       "   Number of Proposed Stories  Estimated Cost  Revised Cost  \\\n",
       "0                         NaN             NaN           1.0   \n",
       "1                         NaN             NaN           1.0   \n",
       "2                         9.0       6500000.0    11466000.0   \n",
       "3                         2.0         40000.0      100000.0   \n",
       "4                         NaN             NaN           1.0   \n",
       "\n",
       "   Supervisor District Neighborhoods - Analysis Boundaries  Zipcode  \n",
       "0                  6.0                             Mission  94103.0  \n",
       "1                  NaN                                 NaN      NaN  \n",
       "2                  3.0                            Nob Hill  94109.0  \n",
       "3                  4.0                     Sunset/Parkside  94122.0  \n",
       "4                  2.0                              Marina  94123.0  "
      ]
     },
     "execution_count": 11,
     "metadata": {},
     "output_type": "execute_result"
    }
   ],
   "source": [
    "df2.head()"
   ]
  },
  {
   "cell_type": "code",
   "execution_count": 12,
   "metadata": {
    "collapsed": true
   },
   "outputs": [],
   "source": [
    "# ROLL BACK\n",
    "df2 = df[cols_to_keep].copy()"
   ]
  },
  {
   "cell_type": "code",
   "execution_count": 13,
   "metadata": {
    "collapsed": true
   },
   "outputs": [],
   "source": [
    "# DEFINING THE POSSIBLE NEW CONSTRUCTION TYPES\n",
    "new_const_types = ['new construction', 'wall or painted sign', \\\n",
    "                   'new construction wood frame', 'grade or quarry or fill or excavate']\n",
    "\n",
    "\n",
    "df2.loc[df2[\"Permit Type Definition\"].isin(new_const_types), 'Number of Existing Stories'] = \\\n",
    "            df2.loc[df2[\"Permit Type Definition\"].isin(new_const_types), 'Number of Existing Stories'].fillna(0)"
   ]
  },
  {
   "cell_type": "code",
   "execution_count": 14,
   "metadata": {
    "collapsed": true
   },
   "outputs": [
    {
     "data": {
      "text/html": [
       "<div>\n",
       "<style scoped>\n",
       "    .dataframe tbody tr th:only-of-type {\n",
       "        vertical-align: middle;\n",
       "    }\n",
       "\n",
       "    .dataframe tbody tr th {\n",
       "        vertical-align: top;\n",
       "    }\n",
       "\n",
       "    .dataframe thead th {\n",
       "        text-align: right;\n",
       "    }\n",
       "</style>\n",
       "<table border=\"1\" class=\"dataframe\">\n",
       "  <thead>\n",
       "    <tr style=\"text-align: right;\">\n",
       "      <th></th>\n",
       "      <th>Permit Number</th>\n",
       "      <th>Permit Type</th>\n",
       "      <th>Permit Creation Date</th>\n",
       "      <th>Permit Type Definition</th>\n",
       "      <th>Number of Existing Stories</th>\n",
       "      <th>Number of Proposed Stories</th>\n",
       "      <th>Estimated Cost</th>\n",
       "      <th>Revised Cost</th>\n",
       "      <th>Supervisor District</th>\n",
       "      <th>Neighborhoods - Analysis Boundaries</th>\n",
       "      <th>Zipcode</th>\n",
       "    </tr>\n",
       "  </thead>\n",
       "  <tbody>\n",
       "    <tr>\n",
       "      <th>0</th>\n",
       "      <td>M766848</td>\n",
       "      <td>8</td>\n",
       "      <td>03/08/2017</td>\n",
       "      <td>otc alterations permit</td>\n",
       "      <td>NaN</td>\n",
       "      <td>NaN</td>\n",
       "      <td>NaN</td>\n",
       "      <td>1.0</td>\n",
       "      <td>6.0</td>\n",
       "      <td>Mission</td>\n",
       "      <td>94103.0</td>\n",
       "    </tr>\n",
       "    <tr>\n",
       "      <th>1</th>\n",
       "      <td>M762447</td>\n",
       "      <td>8</td>\n",
       "      <td>02/21/2017</td>\n",
       "      <td>otc alterations permit</td>\n",
       "      <td>NaN</td>\n",
       "      <td>NaN</td>\n",
       "      <td>NaN</td>\n",
       "      <td>1.0</td>\n",
       "      <td>NaN</td>\n",
       "      <td>NaN</td>\n",
       "      <td>NaN</td>\n",
       "    </tr>\n",
       "    <tr>\n",
       "      <th>2</th>\n",
       "      <td>201507161644</td>\n",
       "      <td>3</td>\n",
       "      <td>07/16/2015</td>\n",
       "      <td>additions alterations or repairs</td>\n",
       "      <td>2.0</td>\n",
       "      <td>9.0</td>\n",
       "      <td>6500000.0</td>\n",
       "      <td>11466000.0</td>\n",
       "      <td>3.0</td>\n",
       "      <td>Nob Hill</td>\n",
       "      <td>94109.0</td>\n",
       "    </tr>\n",
       "    <tr>\n",
       "      <th>3</th>\n",
       "      <td>201610049499</td>\n",
       "      <td>8</td>\n",
       "      <td>10/04/2016</td>\n",
       "      <td>otc alterations permit</td>\n",
       "      <td>2.0</td>\n",
       "      <td>2.0</td>\n",
       "      <td>40000.0</td>\n",
       "      <td>100000.0</td>\n",
       "      <td>4.0</td>\n",
       "      <td>Sunset/Parkside</td>\n",
       "      <td>94122.0</td>\n",
       "    </tr>\n",
       "    <tr>\n",
       "      <th>4</th>\n",
       "      <td>M470307</td>\n",
       "      <td>8</td>\n",
       "      <td>03/12/2014</td>\n",
       "      <td>otc alterations permit</td>\n",
       "      <td>NaN</td>\n",
       "      <td>NaN</td>\n",
       "      <td>NaN</td>\n",
       "      <td>1.0</td>\n",
       "      <td>2.0</td>\n",
       "      <td>Marina</td>\n",
       "      <td>94123.0</td>\n",
       "    </tr>\n",
       "  </tbody>\n",
       "</table>\n",
       "</div>"
      ],
      "text/plain": [
       "  Permit Number  Permit Type Permit Creation Date  \\\n",
       "0       M766848            8           03/08/2017   \n",
       "1       M762447            8           02/21/2017   \n",
       "2  201507161644            3           07/16/2015   \n",
       "3  201610049499            8           10/04/2016   \n",
       "4       M470307            8           03/12/2014   \n",
       "\n",
       "             Permit Type Definition  Number of Existing Stories  \\\n",
       "0            otc alterations permit                         NaN   \n",
       "1            otc alterations permit                         NaN   \n",
       "2  additions alterations or repairs                         2.0   \n",
       "3            otc alterations permit                         2.0   \n",
       "4            otc alterations permit                         NaN   \n",
       "\n",
       "   Number of Proposed Stories  Estimated Cost  Revised Cost  \\\n",
       "0                         NaN             NaN           1.0   \n",
       "1                         NaN             NaN           1.0   \n",
       "2                         9.0       6500000.0    11466000.0   \n",
       "3                         2.0         40000.0      100000.0   \n",
       "4                         NaN             NaN           1.0   \n",
       "\n",
       "   Supervisor District Neighborhoods - Analysis Boundaries  Zipcode  \n",
       "0                  6.0                             Mission  94103.0  \n",
       "1                  NaN                                 NaN      NaN  \n",
       "2                  3.0                            Nob Hill  94109.0  \n",
       "3                  4.0                     Sunset/Parkside  94122.0  \n",
       "4                  2.0                              Marina  94123.0  "
      ]
     },
     "execution_count": 14,
     "metadata": {},
     "output_type": "execute_result"
    }
   ],
   "source": [
    "df2.head()"
   ]
  },
  {
   "cell_type": "code",
   "execution_count": 15,
   "metadata": {
    "collapsed": true
   },
   "outputs": [
    {
     "data": {
      "text/plain": [
       "Permit Number                             0\n",
       "Permit Type                               0\n",
       "Permit Creation Date                      0\n",
       "Permit Type Definition                    0\n",
       "Number of Existing Stories             2027\n",
       "Number of Proposed Stories             2181\n",
       "Estimated Cost                         1898\n",
       "Revised Cost                            307\n",
       "Supervisor District                      83\n",
       "Neighborhoods - Analysis Boundaries      83\n",
       "Zipcode                                  83\n",
       "dtype: int64"
      ]
     },
     "execution_count": 15,
     "metadata": {},
     "output_type": "execute_result"
    }
   ],
   "source": [
    "df2.isna().sum()"
   ]
  },
  {
   "cell_type": "markdown",
   "metadata": {},
   "source": [
    "### Usual scikit-learn workflow\n",
    "\n",
    "---\n",
    "\n",
    "> * Import the function\n",
    "> * Instantiate\n",
    "> * Fit\n",
    "> * transform"
   ]
  },
  {
   "cell_type": "code",
   "execution_count": 18,
   "metadata": {},
   "outputs": [],
   "source": [
    "# IMPORT\n",
    "from sklearn.preprocessing import Imputer\n",
    "\n",
    "# INSTANTIATE\n",
    "imputer_object = Imputer(missing_values='NaN', strategy='mean', axis=0)\n",
    "\n",
    "# FIT\n",
    "imputer_object.fit(df2.loc[~df2[\"Permit Type Definition\"].isin(new_const_types), ['Number of Existing Stories']])\n",
    "\n",
    "# TRANSFORM\n",
    "df2.loc[~df2[\"Permit Type Definition\"].isin(new_const_types), 'Number of Existing Stories'] = \\\n",
    "    imputer_object.transform(df2.loc[~df2[\"Permit Type Definition\"].isin(new_const_types), ['Number of Existing Stories']])"
   ]
  },
  {
   "cell_type": "code",
   "execution_count": null,
   "metadata": {
    "collapsed": true
   },
   "outputs": [],
   "source": [
    "# SIMPLER EXAMPLE ON ENTIRE COLUMN WITHOUT SUBSET\n",
    "# imputer_object = Imputer(missing_values='NaN', strategy='mean', axis=0)\n",
    "# imputer_object.fit(df2.loc[~df2[\"Permit Type Definition\"].isin(new_const_types), ['Number of Existing Stories']])\n",
    "# df2['Number of Existing Stories'] = imputer_object.transform(df2[['Number of Existing Stories']])"
   ]
  },
  {
   "cell_type": "code",
   "execution_count": 19,
   "metadata": {
    "collapsed": true
   },
   "outputs": [
    {
     "data": {
      "text/html": [
       "<div>\n",
       "<style scoped>\n",
       "    .dataframe tbody tr th:only-of-type {\n",
       "        vertical-align: middle;\n",
       "    }\n",
       "\n",
       "    .dataframe tbody tr th {\n",
       "        vertical-align: top;\n",
       "    }\n",
       "\n",
       "    .dataframe thead th {\n",
       "        text-align: right;\n",
       "    }\n",
       "</style>\n",
       "<table border=\"1\" class=\"dataframe\">\n",
       "  <thead>\n",
       "    <tr style=\"text-align: right;\">\n",
       "      <th></th>\n",
       "      <th>Permit Number</th>\n",
       "      <th>Permit Type</th>\n",
       "      <th>Permit Creation Date</th>\n",
       "      <th>Permit Type Definition</th>\n",
       "      <th>Number of Existing Stories</th>\n",
       "      <th>Number of Proposed Stories</th>\n",
       "      <th>Estimated Cost</th>\n",
       "      <th>Revised Cost</th>\n",
       "      <th>Supervisor District</th>\n",
       "      <th>Neighborhoods - Analysis Boundaries</th>\n",
       "      <th>Zipcode</th>\n",
       "    </tr>\n",
       "  </thead>\n",
       "  <tbody>\n",
       "    <tr>\n",
       "      <th>0</th>\n",
       "      <td>M766848</td>\n",
       "      <td>8</td>\n",
       "      <td>03/08/2017</td>\n",
       "      <td>otc alterations permit</td>\n",
       "      <td>5.747747</td>\n",
       "      <td>NaN</td>\n",
       "      <td>NaN</td>\n",
       "      <td>1.0</td>\n",
       "      <td>6.0</td>\n",
       "      <td>Mission</td>\n",
       "      <td>94103.0</td>\n",
       "    </tr>\n",
       "    <tr>\n",
       "      <th>1</th>\n",
       "      <td>M762447</td>\n",
       "      <td>8</td>\n",
       "      <td>02/21/2017</td>\n",
       "      <td>otc alterations permit</td>\n",
       "      <td>5.747747</td>\n",
       "      <td>NaN</td>\n",
       "      <td>NaN</td>\n",
       "      <td>1.0</td>\n",
       "      <td>NaN</td>\n",
       "      <td>NaN</td>\n",
       "      <td>NaN</td>\n",
       "    </tr>\n",
       "    <tr>\n",
       "      <th>2</th>\n",
       "      <td>201507161644</td>\n",
       "      <td>3</td>\n",
       "      <td>07/16/2015</td>\n",
       "      <td>additions alterations or repairs</td>\n",
       "      <td>2.000000</td>\n",
       "      <td>9.0</td>\n",
       "      <td>6500000.0</td>\n",
       "      <td>11466000.0</td>\n",
       "      <td>3.0</td>\n",
       "      <td>Nob Hill</td>\n",
       "      <td>94109.0</td>\n",
       "    </tr>\n",
       "    <tr>\n",
       "      <th>3</th>\n",
       "      <td>201610049499</td>\n",
       "      <td>8</td>\n",
       "      <td>10/04/2016</td>\n",
       "      <td>otc alterations permit</td>\n",
       "      <td>2.000000</td>\n",
       "      <td>2.0</td>\n",
       "      <td>40000.0</td>\n",
       "      <td>100000.0</td>\n",
       "      <td>4.0</td>\n",
       "      <td>Sunset/Parkside</td>\n",
       "      <td>94122.0</td>\n",
       "    </tr>\n",
       "    <tr>\n",
       "      <th>4</th>\n",
       "      <td>M470307</td>\n",
       "      <td>8</td>\n",
       "      <td>03/12/2014</td>\n",
       "      <td>otc alterations permit</td>\n",
       "      <td>5.747747</td>\n",
       "      <td>NaN</td>\n",
       "      <td>NaN</td>\n",
       "      <td>1.0</td>\n",
       "      <td>2.0</td>\n",
       "      <td>Marina</td>\n",
       "      <td>94123.0</td>\n",
       "    </tr>\n",
       "  </tbody>\n",
       "</table>\n",
       "</div>"
      ],
      "text/plain": [
       "  Permit Number  Permit Type Permit Creation Date  \\\n",
       "0       M766848            8           03/08/2017   \n",
       "1       M762447            8           02/21/2017   \n",
       "2  201507161644            3           07/16/2015   \n",
       "3  201610049499            8           10/04/2016   \n",
       "4       M470307            8           03/12/2014   \n",
       "\n",
       "             Permit Type Definition  Number of Existing Stories  \\\n",
       "0            otc alterations permit                    5.747747   \n",
       "1            otc alterations permit                    5.747747   \n",
       "2  additions alterations or repairs                    2.000000   \n",
       "3            otc alterations permit                    2.000000   \n",
       "4            otc alterations permit                    5.747747   \n",
       "\n",
       "   Number of Proposed Stories  Estimated Cost  Revised Cost  \\\n",
       "0                         NaN             NaN           1.0   \n",
       "1                         NaN             NaN           1.0   \n",
       "2                         9.0       6500000.0    11466000.0   \n",
       "3                         2.0         40000.0      100000.0   \n",
       "4                         NaN             NaN           1.0   \n",
       "\n",
       "   Supervisor District Neighborhoods - Analysis Boundaries  Zipcode  \n",
       "0                  6.0                             Mission  94103.0  \n",
       "1                  NaN                                 NaN      NaN  \n",
       "2                  3.0                            Nob Hill  94109.0  \n",
       "3                  4.0                     Sunset/Parkside  94122.0  \n",
       "4                  2.0                              Marina  94123.0  "
      ]
     },
     "execution_count": 19,
     "metadata": {},
     "output_type": "execute_result"
    }
   ],
   "source": [
    "df2.head()"
   ]
  },
  {
   "cell_type": "code",
   "execution_count": 20,
   "metadata": {},
   "outputs": [
    {
     "data": {
      "text/plain": [
       "count    10000.000000\n",
       "mean         5.692568\n",
       "std          7.659827\n",
       "min          0.000000\n",
       "25%          2.000000\n",
       "50%          3.000000\n",
       "75%          5.747747\n",
       "max         63.000000\n",
       "Name: Number of Existing Stories, dtype: float64"
      ]
     },
     "execution_count": 20,
     "metadata": {},
     "output_type": "execute_result"
    }
   ],
   "source": [
    "df2['Number of Existing Stories'].describe()"
   ]
  },
  {
   "cell_type": "code",
   "execution_count": 24,
   "metadata": {},
   "outputs": [
    {
     "data": {
      "image/png": "[encoded data removed]",
      "text/plain": [
       "<matplotlib.figure.Figure at 0x20757d4ea90>"
      ]
     },
     "metadata": {},
     "output_type": "display_data"
    }
   ],
   "source": [
    "# BONUS CONTENT: https://accendoreliability.com/sturges-rule-method-selecting-number-bins-histogram/\n",
    "xmin = df2['Number of Existing Stories'].min()\n",
    "xmax = df2['Number of Existing Stories'].max()\n",
    "\n",
    "from numpy import arange\n",
    "import matplotlib.pyplot as plt\n",
    "\n",
    "plt.figure(figsize=(10,5))\n",
    "plt.hist(df2['Number of Existing Stories'], bins=20, color='lightgreen', histtype='bar', edgecolor='black', linewidth=1.5)\n",
    "plt.xticks(arange(xmin, xmax, 10))\n",
    "plt.title('Histogram of Number of Existing Stories')\n",
    "plt.show()"
   ]
  },
  {
   "cell_type": "code",
   "execution_count": 25,
   "metadata": {},
   "outputs": [
    {
     "data": {
      "text/html": [
       "<div>\n",
       "<style scoped>\n",
       "    .dataframe tbody tr th:only-of-type {\n",
       "        vertical-align: middle;\n",
       "    }\n",
       "\n",
       "    .dataframe tbody tr th {\n",
       "        vertical-align: top;\n",
       "    }\n",
       "\n",
       "    .dataframe thead th {\n",
       "        text-align: right;\n",
       "    }\n",
       "</style>\n",
       "<table border=\"1\" class=\"dataframe\">\n",
       "  <thead>\n",
       "    <tr style=\"text-align: right;\">\n",
       "      <th></th>\n",
       "      <th>Number of Existing Stories</th>\n",
       "    </tr>\n",
       "    <tr>\n",
       "      <th>Permit Type Definition</th>\n",
       "      <th></th>\n",
       "    </tr>\n",
       "  </thead>\n",
       "  <tbody>\n",
       "    <tr>\n",
       "      <th>additions alterations or repairs</th>\n",
       "      <td>3.997535</td>\n",
       "    </tr>\n",
       "    <tr>\n",
       "      <th>demolitions</th>\n",
       "      <td>1.658537</td>\n",
       "    </tr>\n",
       "    <tr>\n",
       "      <th>grade or quarry or fill or excavate</th>\n",
       "      <td>0.000000</td>\n",
       "    </tr>\n",
       "    <tr>\n",
       "      <th>new construction</th>\n",
       "      <td>0.000000</td>\n",
       "    </tr>\n",
       "    <tr>\n",
       "      <th>new construction wood frame</th>\n",
       "      <td>0.000000</td>\n",
       "    </tr>\n",
       "    <tr>\n",
       "      <th>otc alterations permit</th>\n",
       "      <td>5.881938</td>\n",
       "    </tr>\n",
       "    <tr>\n",
       "      <th>sign - erect</th>\n",
       "      <td>7.206272</td>\n",
       "    </tr>\n",
       "    <tr>\n",
       "      <th>wall or painted sign</th>\n",
       "      <td>0.000000</td>\n",
       "    </tr>\n",
       "  </tbody>\n",
       "</table>\n",
       "</div>"
      ],
      "text/plain": [
       "                                     Number of Existing Stories\n",
       "Permit Type Definition                                         \n",
       "additions alterations or repairs                       3.997535\n",
       "demolitions                                            1.658537\n",
       "grade or quarry or fill or excavate                    0.000000\n",
       "new construction                                       0.000000\n",
       "new construction wood frame                            0.000000\n",
       "otc alterations permit                                 5.881938\n",
       "sign - erect                                           7.206272\n",
       "wall or painted sign                                   0.000000"
      ]
     },
     "execution_count": 25,
     "metadata": {},
     "output_type": "execute_result"
    }
   ],
   "source": [
    "df2.groupby('Permit Type Definition')['Number of Existing Stories'].mean().to_frame()"
   ]
  },
  {
   "cell_type": "code",
   "execution_count": 26,
   "metadata": {},
   "outputs": [
    {
     "data": {
      "text/plain": [
       "Permit Type Definition\n",
       "additions alterations or repairs       3.0\n",
       "demolitions                            1.0\n",
       "grade or quarry or fill or excavate    0.0\n",
       "new construction                       0.0\n",
       "new construction wood frame            0.0\n",
       "otc alterations permit                 3.0\n",
       "sign - erect                           4.0\n",
       "wall or painted sign                   0.0\n",
       "Name: Number of Existing Stories, dtype: float64"
      ]
     },
     "execution_count": 26,
     "metadata": {},
     "output_type": "execute_result"
    }
   ],
   "source": [
    "df2.groupby('Permit Type Definition')['Number of Existing Stories'].median()"
   ]
  },
  {
   "cell_type": "code",
   "execution_count": 28,
   "metadata": {},
   "outputs": [
    {
     "data": {
      "image/png": "[encoded data removed]",
      "text/plain": [
       "<matplotlib.figure.Figure at 0x20757ee6f60>"
      ]
     },
     "metadata": {},
     "output_type": "display_data"
    }
   ],
   "source": [
    "gb_table = df2.groupby('Permit Type Definition')['Number of Existing Stories'].median().astype(int)\n",
    "\n",
    "gb_table.plot(kind='barh', xticks=[2*x for x in arange(5)], title='Bar Plot of Median Existing Stories', figsize=(10,5))\n",
    "\n",
    "for i, v in enumerate(gb_table.values):\n",
    "    plt.text(v + 0.35, i, str(v), color='blue', fontweight='bold')\n",
    "\n",
    "plt.show()"
   ]
  },
  {
   "cell_type": "markdown",
   "metadata": {},
   "source": [
    "# <center> **Questions we asked and answered today**\n",
    "\n",
    "---\n",
    "\n",
    "> * From which year(s) do we have the permit data? Which year(s) had the highest number of permits? <br>\n",
    "> * List all possible permit types and their definitions <br>\n",
    "> * What is the most reasonable way to treat missing entries in Number of Existing Stories? <br>\n",
    "> * Frequency Distribution of Number of Existing Stories <br>\n",
    "> * Average Number of Existing Stories by different Permit Types"
   ]
  }
 ],
 "metadata": {
  "kernelspec": {
   "display_name": "Python 3",
   "language": "python",
   "name": "python3"
  },
  "language_info": {
   "codemirror_mode": {
    "name": "ipython",
    "version": 3
   },
   "file_extension": ".py",
   "mimetype": "text/x-python",
   "name": "python",
   "nbconvert_exporter": "python",
   "pygments_lexer": "ipython3",
   "version": "3.5.3"
  }
 },
 "nbformat": 4,
 "nbformat_minor": 2
}
