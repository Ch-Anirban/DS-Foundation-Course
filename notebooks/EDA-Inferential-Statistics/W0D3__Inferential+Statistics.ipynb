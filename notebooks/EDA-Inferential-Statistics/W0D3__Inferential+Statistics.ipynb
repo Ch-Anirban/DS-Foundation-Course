{
 "cells": [
  {
   "cell_type": "markdown",
   "metadata": {},
   "source": [
    "# <center> **Inferential Statistics**\n",
    "\n",
    "---\n",
    "\n",
    "<center><img src=\"samp_pop.PNG\"></center>"
   ]
  },
  {
   "cell_type": "markdown",
   "metadata": {},
   "source": [
    "### **Hypothesis Testing**\n",
    "\n",
    "---\n",
    "\n",
    "> Hypothesis testing is a statistical method that is used in making statistical decisions using experimental data.\n",
    "Hypothesis Testing is basically an assumption that we make about the population parameter.\n",
    "\n",
    "> In simple words we make a Yes (Significant) or No (Not Significant) decision using Statastics using a sample of\n",
    "population data to check significance between features.\n",
    "\n",
    "> We have to make decisions about the hypothesis. These decisions include deciding if we should accept the null\n",
    "hypothesis or if we should reject the null hypothesis. Every test in hypothesis testing produces the significance\n",
    "value for that particular test. In Hypothesis testing, if the significance value of the test is greater than the\n",
    "predetermined significance level, then we accept the null hypothesis. If the significance value is less than the\n",
    "predetermined value, then we should reject the null hypothesis.\n",
    "\n",
    "> **Example**\n",
    "\n",
    "> * A school teacher might want to check if there is a significant different between the test results of students who attended an extra class versus that of those who did not.\n",
    "\n",
    "> * Your client were able to acquire 1000 customers each month in 2020. Now given the monthly acquisitions of 2021, they request you to check if they are still on track or if the monthly average is signifcantly lower this year.\n",
    "\n",
    "\n",
    "<center><img src=\"ht.PNG\"></center>\n",
    "\n",
    "---\n",
    "\n",
    "#### Few Useful Terms\n",
    "\n",
    "\n",
    "> 1. **Null hypothesis**\n",
    "\n",
    "Null hypothesis is a statistical hypothesis that assumes that the observation is due to a chance factor.\n",
    "Null hypothesis is denoted by; H0: μ1 = μ2, which shows that there is no difference between the two\n",
    "population means.\n",
    "\n",
    "> 2. **Alternative hypothesis**\n",
    "\n",
    "Contrary to the null hypothesis, the alternative hypothesis shows that observations are the result of a\n",
    "real effect.\n",
    "\n",
    "> 3. **Level of significance / P-value**\n",
    "\n",
    "Refers to the degree of significance in which we accept or reject the null-hypothesis. 100% accuracy is\n",
    "not possible for accepting or rejecting a hypothesis, so we therefore select a level of significance that is\n",
    "usually 5%.\n",
    "\n",
    "> 4. **Type I error**\n",
    "\n",
    "**When we reject the null hypothesis, although that hypothesis was true**. Type I error is denoted by alpha.\n",
    "In hypothesis testing, the normal curve that shows the critical region is called the alpha region.\n",
    "\n",
    "> 5. **Type II errors**\n",
    "\n",
    "**When we do not reject the null hypothesis but it is false**. Type II errors are denoted by beta. In Hypothesis\n",
    "testing, the normal curve that shows the acceptance region is called the beta region.\n",
    "\n",
    "---\n",
    "\n",
    "<center><img src=\"side.PNG\">"
   ]
  },
  {
   "cell_type": "markdown",
   "metadata": {},
   "source": [
    "### <center> **Type 1 error or Type 2 error - which one is worse?**\n",
    "\n",
    "---\n",
    "\n",
    "<center><img src=\"error.PNG\">"
   ]
  },
  {
   "cell_type": "code",
   "execution_count": 1,
   "metadata": {},
   "outputs": [
    {
     "data": {
      "text/html": [
       "<div>\n",
       "<style scoped>\n",
       "    .dataframe tbody tr th:only-of-type {\n",
       "        vertical-align: middle;\n",
       "    }\n",
       "\n",
       "    .dataframe tbody tr th {\n",
       "        vertical-align: top;\n",
       "    }\n",
       "\n",
       "    .dataframe thead th {\n",
       "        text-align: right;\n",
       "    }\n",
       "</style>\n",
       "<table border=\"1\" class=\"dataframe\">\n",
       "  <thead>\n",
       "    <tr style=\"text-align: right;\">\n",
       "      <th></th>\n",
       "      <th>Car Variant ID</th>\n",
       "      <th>Electric Vehicle</th>\n",
       "      <th>Mileage</th>\n",
       "    </tr>\n",
       "  </thead>\n",
       "  <tbody>\n",
       "    <tr>\n",
       "      <th>0</th>\n",
       "      <td>641</td>\n",
       "      <td>1</td>\n",
       "      <td>19.0</td>\n",
       "    </tr>\n",
       "    <tr>\n",
       "      <th>1</th>\n",
       "      <td>748</td>\n",
       "      <td>1</td>\n",
       "      <td>15.9</td>\n",
       "    </tr>\n",
       "    <tr>\n",
       "      <th>2</th>\n",
       "      <td>57</td>\n",
       "      <td>1</td>\n",
       "      <td>16.3</td>\n",
       "    </tr>\n",
       "    <tr>\n",
       "      <th>3</th>\n",
       "      <td>617</td>\n",
       "      <td>0</td>\n",
       "      <td>16.1</td>\n",
       "    </tr>\n",
       "    <tr>\n",
       "      <th>4</th>\n",
       "      <td>423</td>\n",
       "      <td>1</td>\n",
       "      <td>15.9</td>\n",
       "    </tr>\n",
       "  </tbody>\n",
       "</table>\n",
       "</div>"
      ],
      "text/plain": [
       "   Car Variant ID  Electric Vehicle  Mileage\n",
       "0             641                 1     19.0\n",
       "1             748                 1     15.9\n",
       "2              57                 1     16.3\n",
       "3             617                 0     16.1\n",
       "4             423                 1     15.9"
      ]
     },
     "execution_count": 1,
     "metadata": {},
     "output_type": "execute_result"
    }
   ],
   "source": [
    "import pandas as pd\n",
    "df = pd.read_csv('mileage.csv', sep=',', header=0)\n",
    "df.head()"
   ]
  },
  {
   "cell_type": "code",
   "execution_count": 2,
   "metadata": {},
   "outputs": [
    {
     "data": {
      "image/png": "[encoded data removed]",
      "text/plain": [
       "<matplotlib.figure.Figure at 0x1a2b1b47400>"
      ]
     },
     "metadata": {},
     "output_type": "display_data"
    }
   ],
   "source": [
    "import matplotlib.pyplot as plt\n",
    "plt.hist(df['Mileage'], bins=20, color='lightgreen', histtype='bar', edgecolor='black', linewidth=1.5)\n",
    "plt.show()"
   ]
  },
  {
   "cell_type": "markdown",
   "metadata": {},
   "source": [
    "## TEST #1 - NORMALITY"
   ]
  },
  {
   "cell_type": "markdown",
   "metadata": {},
   "source": [
    "### <center> What is a normal distribution?\n",
    "\n",
    "---\n",
    "\n",
    "<center><img src=\"normal.PNG\"></center>\n",
    "\n",
    "> If something is said to follow the normal distribution, it means in the most simple terms that most of the data lies around the average. An easy example is the distribution of test grades in schools. Most people will score around the average, with a few high scores and a few low scores. This means that most people get C's, while only a few get A's and F's\n",
    "\n",
    "<center>**Bitter Truth: True Normality is nothing less than a myth**"
   ]
  },
  {
   "cell_type": "code",
   "execution_count": 3,
   "metadata": {},
   "outputs": [],
   "source": [
    "from scipy import stats\n",
    "\n",
    "##############################################\n",
    "##### Shapiro-Wilks Test for normality   #####\n",
    "##############################################\n",
    "shapiro_results = stats.shapiro(df['Mileage'])"
   ]
  },
  {
   "cell_type": "code",
   "execution_count": 4,
   "metadata": {},
   "outputs": [
    {
     "data": {
      "text/plain": [
       "0.9945541620254517"
      ]
     },
     "execution_count": 4,
     "metadata": {},
     "output_type": "execute_result"
    }
   ],
   "source": [
    "# Test Statistic\n",
    "shapiro_results[0]"
   ]
  },
  {
   "cell_type": "code",
   "execution_count": 5,
   "metadata": {},
   "outputs": [
    {
     "data": {
      "text/plain": [
       "0.9619031548500061"
      ]
     },
     "execution_count": 5,
     "metadata": {},
     "output_type": "execute_result"
    }
   ],
   "source": [
    "# p-value\n",
    "shapiro_results[1]"
   ]
  },
  {
   "cell_type": "markdown",
   "metadata": {},
   "source": [
    "## TEST #2 - MEAN (SINGLE SAMPLE)"
   ]
  },
  {
   "cell_type": "markdown",
   "metadata": {},
   "source": [
    "### 1 sample T-test\n",
    "\n",
    "> **Assumptions:**\n",
    "\n",
    "> Variable type must be quantitative in nature\n",
    "\n",
    "> Sample should be a SRS (Simple Random Sample)\n",
    "\n",
    "> Sample should come from a normal distribution"
   ]
  },
  {
   "cell_type": "code",
   "execution_count": 6,
   "metadata": {},
   "outputs": [],
   "source": [
    "ttest_1samp_results = stats.ttest_1samp(df['Mileage'], popmean=17, axis=0, nan_policy='omit')"
   ]
  },
  {
   "cell_type": "code",
   "execution_count": 7,
   "metadata": {},
   "outputs": [
    {
     "data": {
      "text/plain": [
       "-0.47086157451932653"
      ]
     },
     "execution_count": 7,
     "metadata": {},
     "output_type": "execute_result"
    }
   ],
   "source": [
    "# Test Statistic\n",
    "ttest_1samp_results[0]"
   ]
  },
  {
   "cell_type": "code",
   "execution_count": 8,
   "metadata": {},
   "outputs": [
    {
     "data": {
      "text/plain": [
       "0.6387754355352087"
      ]
     },
     "execution_count": 8,
     "metadata": {},
     "output_type": "execute_result"
    }
   ],
   "source": [
    "# p-value\n",
    "ttest_1samp_results[1]"
   ]
  },
  {
   "cell_type": "markdown",
   "metadata": {},
   "source": [
    "## TEST #3 - VARIANCE"
   ]
  },
  {
   "cell_type": "markdown",
   "metadata": {},
   "source": [
    "### <center> **Now what exactly is variance?**\n",
    "\n",
    "---\n",
    "\n",
    "> The variance of a group of numbers is the sum of the squares of the difference between each score and the average score, divided by one fewer than the number of scores.\n",
    "\n",
    "<center><img src=\"var.PNG\">"
   ]
  },
  {
   "cell_type": "markdown",
   "metadata": {},
   "source": [
    "You scored --> 70\n",
    "Average (mean) --> 72\n",
    "Scores --> 100, 80, 80, 70, 30"
   ]
  },
  {
   "cell_type": "code",
   "execution_count": 9,
   "metadata": {},
   "outputs": [
    {
     "data": {
      "text/plain": [
       "9.22328383838384"
      ]
     },
     "execution_count": 9,
     "metadata": {},
     "output_type": "execute_result"
    }
   ],
   "source": [
    "df[\"Mileage\"].var()"
   ]
  },
  {
   "cell_type": "code",
   "execution_count": 10,
   "metadata": {},
   "outputs": [
    {
     "data": {
      "text/plain": [
       "3.036985979286674"
      ]
     },
     "execution_count": 10,
     "metadata": {},
     "output_type": "execute_result"
    }
   ],
   "source": [
    "df[\"Mileage\"].std()"
   ]
  },
  {
   "cell_type": "code",
   "execution_count": 11,
   "metadata": {
    "collapsed": true
   },
   "outputs": [],
   "source": [
    "# Why do we need standard deviation if we already have variance?"
   ]
  },
  {
   "cell_type": "code",
   "execution_count": 12,
   "metadata": {},
   "outputs": [],
   "source": [
    "sample_1 = df.loc[df['Electric Vehicle']==0,'Mileage']\n",
    "sample_2 = df.loc[df['Electric Vehicle']==1,'Mileage']\n",
    "\n",
    "bartlett_results = stats.bartlett(sample_1, sample_2)"
   ]
  },
  {
   "cell_type": "code",
   "execution_count": 13,
   "metadata": {},
   "outputs": [
    {
     "data": {
      "text/plain": [
       "0.015008585617447235"
      ]
     },
     "execution_count": 13,
     "metadata": {},
     "output_type": "execute_result"
    }
   ],
   "source": [
    "# Test statistic\n",
    "bartlett_results[0]"
   ]
  },
  {
   "cell_type": "code",
   "execution_count": 14,
   "metadata": {},
   "outputs": [
    {
     "data": {
      "text/plain": [
       "0.9024954968094653"
      ]
     },
     "execution_count": 14,
     "metadata": {},
     "output_type": "execute_result"
    }
   ],
   "source": [
    "# p-value\n",
    "bartlett_results[1]"
   ]
  },
  {
   "cell_type": "markdown",
   "metadata": {},
   "source": [
    "## TEST #4 - MEAN (TWO SAMPLES)"
   ]
  },
  {
   "cell_type": "markdown",
   "metadata": {},
   "source": [
    "### Independent 2 sample T-test\n",
    "\n",
    "> **Assumptions:**\n",
    "\n",
    "> All assumptions of 1 sample T-test and below ones\n",
    "\n",
    "> Samples should be independent of each other\n",
    "\n",
    "> Samples should have approximately equal variance. Other words, samples should come from populations with equal variance "
   ]
  },
  {
   "cell_type": "code",
   "execution_count": 15,
   "metadata": {},
   "outputs": [],
   "source": [
    "ttest_ind_results = stats.ttest_ind(sample_1, sample_2, axis=0, equal_var=True, nan_policy='omit')"
   ]
  },
  {
   "cell_type": "code",
   "execution_count": 16,
   "metadata": {},
   "outputs": [
    {
     "data": {
      "text/plain": [
       "-1.4022507564081854"
      ]
     },
     "execution_count": 16,
     "metadata": {},
     "output_type": "execute_result"
    }
   ],
   "source": [
    "# Test statistic\n",
    "ttest_ind_results[0]"
   ]
  },
  {
   "cell_type": "code",
   "execution_count": 17,
   "metadata": {},
   "outputs": [
    {
     "data": {
      "text/plain": [
       "0.16400009850904873"
      ]
     },
     "execution_count": 17,
     "metadata": {},
     "output_type": "execute_result"
    }
   ],
   "source": [
    "# p-value\n",
    "ttest_ind_results[1]"
   ]
  }
 ],
 "metadata": {
  "kernelspec": {
   "display_name": "Python 3",
   "language": "python",
   "name": "python3"
  },
  "language_info": {
   "codemirror_mode": {
    "name": "ipython",
    "version": 3
   },
   "file_extension": ".py",
   "mimetype": "text/x-python",
   "name": "python",
   "nbconvert_exporter": "python",
   "pygments_lexer": "ipython3",
   "version": "3.5.3"
  }
 },
 "nbformat": 4,
 "nbformat_minor": 2
}
