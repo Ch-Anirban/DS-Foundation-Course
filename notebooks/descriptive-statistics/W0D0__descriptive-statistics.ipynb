{
 "cells": [
  {
   "cell_type": "markdown",
   "metadata": {},
   "source": [
    "***\n",
    "\n",
    "# <center><font color=\"blue\">Descriptive Statistics</font></center>\n",
    "\n",
    "---\n",
    "\n",
    "<center><img src=\"https://yata-apix-73b1df5e-a5c6-477b-a1a8-709ac9e06603.lss.locawebcorp.com.br/657bdcd804964c6ab854171e4f99ce5e.png\"></center>\n",
    "\n",
    "***\n"
   ]
  },
  {
   "cell_type": "markdown",
   "metadata": {},
   "source": [
    "---\n",
    "\n",
    "# Outline\n",
    "\n",
    "**1. Libraries & Data loading**<br>\n",
    "A. Used Libraries<br>\n",
    "B. Data Loading<br>\n",
    "\n",
    "**2. Descriptive Analysis**<br>\n",
    "A. Type of variables<br>\n",
    "B. Frequency distribution<br>\n",
    "C. Histograms<br>\n",
    "D. Bar graphs<br>\n",
    "E. Central tendency measures<br>\n",
    "F. Skewness<br>"
   ]
  },
  {
   "cell_type": "markdown",
   "metadata": {},
   "source": [
    "# 1. Libraries & Data Loading"
   ]
  },
  {
   "cell_type": "markdown",
   "metadata": {},
   "source": [
    "## A. Used Libraries"
   ]
  },
  {
   "cell_type": "markdown",
   "metadata": {},
   "source": [
    "# Numpy\n",
    "NumPy is the fundamental package for scientific computing in Python. It is a Python library that provides a multidimensional array object, various derived objects (such as masked arrays and matrices), and an assortment of routines for fast operations on arrays, including mathematical, logical, shape manipulation, sorting, selecting, I/O, discrete Fourier transforms, basic linear algebra, basic statistical operations, random simulation and much more."
   ]
  },
  {
   "cell_type": "code",
   "execution_count": 1,
   "metadata": {
    "_cell_guid": "b1076dfc-b9ad-4769-8c92-a6c4dae69d19",
    "_uuid": "8f2839f25d086af736a60e9eeb907d3b93b6e0e5"
   },
   "outputs": [],
   "source": [
    "# ways of importing a package\n",
    "\n",
    "1\n",
    "import numpy\n",
    "\n",
    "2\n",
    "from numpy import *\n",
    "\n",
    "3\n",
    "from numpy import arange #or any valid function in place of \"arange\"\n",
    "\n",
    "4\n",
    "import numpy as np"
   ]
  },
  {
   "cell_type": "markdown",
   "metadata": {},
   "source": [
    "# Pandas\n",
    "Pandas is a Python package providing fast, flexible, and expressive data structures designed to make working with “relational” or “labeled” data both easy and intuitive. It aims to be the fundamental high-level building block for doing practical, real-world data analysis in Python."
   ]
  },
  {
   "cell_type": "code",
   "execution_count": 2,
   "metadata": {
    "collapsed": true
   },
   "outputs": [],
   "source": [
    "# importing pandas\n",
    "import pandas as pd"
   ]
  },
  {
   "attachments": {},
   "cell_type": "markdown",
   "metadata": {},
   "source": [
    "# Matplotlib Pyplot\n",
    "---\n",
    "\n",
    "<center><img src=\"anatomy_of_a_figure.PNG\"></center>"
   ]
  },
  {
   "cell_type": "code",
   "execution_count": 3,
   "metadata": {
    "collapsed": true
   },
   "outputs": [],
   "source": [
    "# importing matplotlib\n",
    "import matplotlib.pyplot as plt"
   ]
  },
  {
   "cell_type": "markdown",
   "metadata": {},
   "source": [
    "## B.Load the file"
   ]
  },
  {
   "cell_type": "code",
   "execution_count": 21,
   "metadata": {
    "collapsed": true
   },
   "outputs": [],
   "source": [
    "# What to do when you need help\n",
    "??pd.read_csv"
   ]
  },
  {
   "cell_type": "code",
   "execution_count": 5,
   "metadata": {},
   "outputs": [],
   "source": [
    "income_df=pd.read_csv(filepath_or_buffer=\"Inc_Exp_Data.csv\", sep=\",\", header=0)"
   ]
  },
  {
   "cell_type": "code",
   "execution_count": 6,
   "metadata": {},
   "outputs": [
    {
     "data": {
      "text/plain": [
       "pandas.core.frame.DataFrame"
      ]
     },
     "execution_count": 6,
     "metadata": {},
     "output_type": "execute_result"
    }
   ],
   "source": [
    "type(income_df)"
   ]
  },
  {
   "cell_type": "code",
   "execution_count": 7,
   "metadata": {},
   "outputs": [
    {
     "data": {
      "text/plain": [
       "(50, 7)"
      ]
     },
     "execution_count": 7,
     "metadata": {},
     "output_type": "execute_result"
    }
   ],
   "source": [
    "income_df.shape"
   ]
  },
  {
   "cell_type": "code",
   "execution_count": 8,
   "metadata": {
    "_cell_guid": "79c7e3d0-c299-4dcb-8224-4455121ee9b0",
    "_uuid": "d629ff2d2480ee46fbb7e2d37f6b5fab8052498a"
   },
   "outputs": [
    {
     "data": {
      "text/html": [
       "<div>\n",
       "<style scoped>\n",
       "    .dataframe tbody tr th:only-of-type {\n",
       "        vertical-align: middle;\n",
       "    }\n",
       "\n",
       "    .dataframe tbody tr th {\n",
       "        vertical-align: top;\n",
       "    }\n",
       "\n",
       "    .dataframe thead th {\n",
       "        text-align: right;\n",
       "    }\n",
       "</style>\n",
       "<table border=\"1\" class=\"dataframe\">\n",
       "  <thead>\n",
       "    <tr style=\"text-align: right;\">\n",
       "      <th></th>\n",
       "      <th>Mthly_HH_Income</th>\n",
       "      <th>Mthly_HH_Expense</th>\n",
       "      <th>No_of_Fly_Members</th>\n",
       "      <th>Emi_or_Rent_Amt</th>\n",
       "      <th>Annual_HH_Income</th>\n",
       "      <th>Highest_Qualified_Member</th>\n",
       "      <th>No_of_Earning_Members</th>\n",
       "    </tr>\n",
       "  </thead>\n",
       "  <tbody>\n",
       "    <tr>\n",
       "      <th>0</th>\n",
       "      <td>5000</td>\n",
       "      <td>8000</td>\n",
       "      <td>3</td>\n",
       "      <td>2000</td>\n",
       "      <td>64200</td>\n",
       "      <td>Under-Graduate</td>\n",
       "      <td>1</td>\n",
       "    </tr>\n",
       "    <tr>\n",
       "      <th>1</th>\n",
       "      <td>6000</td>\n",
       "      <td>7000</td>\n",
       "      <td>2</td>\n",
       "      <td>3000</td>\n",
       "      <td>79920</td>\n",
       "      <td>Illiterate</td>\n",
       "      <td>1</td>\n",
       "    </tr>\n",
       "    <tr>\n",
       "      <th>2</th>\n",
       "      <td>10000</td>\n",
       "      <td>4500</td>\n",
       "      <td>2</td>\n",
       "      <td>0</td>\n",
       "      <td>112800</td>\n",
       "      <td>Under-Graduate</td>\n",
       "      <td>1</td>\n",
       "    </tr>\n",
       "    <tr>\n",
       "      <th>3</th>\n",
       "      <td>10000</td>\n",
       "      <td>2000</td>\n",
       "      <td>1</td>\n",
       "      <td>0</td>\n",
       "      <td>97200</td>\n",
       "      <td>Illiterate</td>\n",
       "      <td>1</td>\n",
       "    </tr>\n",
       "    <tr>\n",
       "      <th>4</th>\n",
       "      <td>12500</td>\n",
       "      <td>12000</td>\n",
       "      <td>2</td>\n",
       "      <td>3000</td>\n",
       "      <td>147000</td>\n",
       "      <td>Graduate</td>\n",
       "      <td>1</td>\n",
       "    </tr>\n",
       "  </tbody>\n",
       "</table>\n",
       "</div>"
      ],
      "text/plain": [
       "   Mthly_HH_Income  Mthly_HH_Expense  No_of_Fly_Members  Emi_or_Rent_Amt  \\\n",
       "0             5000              8000                  3             2000   \n",
       "1             6000              7000                  2             3000   \n",
       "2            10000              4500                  2                0   \n",
       "3            10000              2000                  1                0   \n",
       "4            12500             12000                  2             3000   \n",
       "\n",
       "   Annual_HH_Income Highest_Qualified_Member  No_of_Earning_Members  \n",
       "0             64200           Under-Graduate                      1  \n",
       "1             79920               Illiterate                      1  \n",
       "2            112800           Under-Graduate                      1  \n",
       "3             97200               Illiterate                      1  \n",
       "4            147000                 Graduate                      1  "
      ]
     },
     "execution_count": 8,
     "metadata": {},
     "output_type": "execute_result"
    }
   ],
   "source": [
    "income_df.head()"
   ]
  },
  {
   "cell_type": "code",
   "execution_count": 9,
   "metadata": {},
   "outputs": [
    {
     "data": {
      "text/html": [
       "<div>\n",
       "<style scoped>\n",
       "    .dataframe tbody tr th:only-of-type {\n",
       "        vertical-align: middle;\n",
       "    }\n",
       "\n",
       "    .dataframe tbody tr th {\n",
       "        vertical-align: top;\n",
       "    }\n",
       "\n",
       "    .dataframe thead th {\n",
       "        text-align: right;\n",
       "    }\n",
       "</style>\n",
       "<table border=\"1\" class=\"dataframe\">\n",
       "  <thead>\n",
       "    <tr style=\"text-align: right;\">\n",
       "      <th></th>\n",
       "      <th>Mthly_HH_Income</th>\n",
       "      <th>Mthly_HH_Expense</th>\n",
       "      <th>No_of_Fly_Members</th>\n",
       "      <th>Emi_or_Rent_Amt</th>\n",
       "      <th>Annual_HH_Income</th>\n",
       "      <th>Highest_Qualified_Member</th>\n",
       "      <th>No_of_Earning_Members</th>\n",
       "    </tr>\n",
       "  </thead>\n",
       "  <tbody>\n",
       "    <tr>\n",
       "      <th>45</th>\n",
       "      <td>90000</td>\n",
       "      <td>48000</td>\n",
       "      <td>7</td>\n",
       "      <td>0</td>\n",
       "      <td>885600</td>\n",
       "      <td>Post-Graduate</td>\n",
       "      <td>3</td>\n",
       "    </tr>\n",
       "    <tr>\n",
       "      <th>46</th>\n",
       "      <td>98000</td>\n",
       "      <td>25000</td>\n",
       "      <td>5</td>\n",
       "      <td>0</td>\n",
       "      <td>1152480</td>\n",
       "      <td>Professional</td>\n",
       "      <td>2</td>\n",
       "    </tr>\n",
       "    <tr>\n",
       "      <th>47</th>\n",
       "      <td>100000</td>\n",
       "      <td>30000</td>\n",
       "      <td>6</td>\n",
       "      <td>0</td>\n",
       "      <td>1404000</td>\n",
       "      <td>Graduate</td>\n",
       "      <td>3</td>\n",
       "    </tr>\n",
       "    <tr>\n",
       "      <th>48</th>\n",
       "      <td>100000</td>\n",
       "      <td>50000</td>\n",
       "      <td>4</td>\n",
       "      <td>20000</td>\n",
       "      <td>1032000</td>\n",
       "      <td>Professional</td>\n",
       "      <td>2</td>\n",
       "    </tr>\n",
       "    <tr>\n",
       "      <th>49</th>\n",
       "      <td>100000</td>\n",
       "      <td>40000</td>\n",
       "      <td>6</td>\n",
       "      <td>10000</td>\n",
       "      <td>1320000</td>\n",
       "      <td>Post-Graduate</td>\n",
       "      <td>1</td>\n",
       "    </tr>\n",
       "  </tbody>\n",
       "</table>\n",
       "</div>"
      ],
      "text/plain": [
       "    Mthly_HH_Income  Mthly_HH_Expense  No_of_Fly_Members  Emi_or_Rent_Amt  \\\n",
       "45            90000             48000                  7                0   \n",
       "46            98000             25000                  5                0   \n",
       "47           100000             30000                  6                0   \n",
       "48           100000             50000                  4            20000   \n",
       "49           100000             40000                  6            10000   \n",
       "\n",
       "    Annual_HH_Income Highest_Qualified_Member  No_of_Earning_Members  \n",
       "45            885600            Post-Graduate                      3  \n",
       "46           1152480             Professional                      2  \n",
       "47           1404000                 Graduate                      3  \n",
       "48           1032000             Professional                      2  \n",
       "49           1320000            Post-Graduate                      1  "
      ]
     },
     "execution_count": 9,
     "metadata": {},
     "output_type": "execute_result"
    }
   ],
   "source": [
    "income_df.tail()"
   ]
  },
  {
   "cell_type": "code",
   "execution_count": 10,
   "metadata": {},
   "outputs": [
    {
     "name": "stdout",
     "output_type": "stream",
     "text": [
      "<class 'pandas.core.frame.DataFrame'>\n",
      "RangeIndex: 50 entries, 0 to 49\n",
      "Data columns (total 7 columns):\n",
      "Mthly_HH_Income             50 non-null int64\n",
      "Mthly_HH_Expense            50 non-null int64\n",
      "No_of_Fly_Members           50 non-null int64\n",
      "Emi_or_Rent_Amt             50 non-null int64\n",
      "Annual_HH_Income            50 non-null int64\n",
      "Highest_Qualified_Member    50 non-null object\n",
      "No_of_Earning_Members       50 non-null int64\n",
      "dtypes: int64(6), object(1)\n",
      "memory usage: 2.8+ KB\n"
     ]
    }
   ],
   "source": [
    "income_df.info()"
   ]
  },
  {
   "cell_type": "markdown",
   "metadata": {},
   "source": [
    "---\n",
    "\n",
    "# 2. Descriptive Analysis <br>\n",
    "\n",
    "> The first step in an analysis work is the knowledge of the behavior of the variables involved in the study. Using statistical techniques, we can better assess how the phenomena under study are distributed.\n",
    "\n",
    "> The main objective is to summarize and visualize the behavior of these variables. The <b>statistical techniques</b> that will be applied for the analysis of the variables are, <b>analysis of frequency distributions</b>, <b>Histograms</b>, <b>bar graphs</b>, <b>measures of central tendency</b>, <b>relations between measures of central tendency</b>, <b>separating measures</b> and <b>measures of dispersion</b>."
   ]
  },
  {
   "cell_type": "markdown",
   "metadata": {},
   "source": [
    "## A. Variable types\n",
    "\n",
    "> Variables are values that represent certain characteristics within a research. These values vary from element to element. It is the measure in each element of the sample or population. These variables can have numeric or non-numeric values and are classified as follows:\n",
    "\n",
    "<img src=\"https://thefactfactor.com/wp-content/uploads/2019/06/Variables.png\">"
   ]
  },
  {
   "cell_type": "markdown",
   "metadata": {},
   "source": [
    "### Quantitative Variables - Continuous\n",
    "\n",
    "> <b>Quantitative Variables</b>: are represented by numbers resulting from a count or measurement. They can be of two types:\n",
    "\n",
    "> <b>Continuous variables</b>: the values belong to a range of real numbers and represent a measurement such as a person's height or weight. In these cases fractional numbers make sense. Example: time (clock) and blood pressure.\n",
    "\n",
    "\n",
    "### Quantitative Variables - Discrete\n",
    "\n",
    "> <b>Quantitative Variables</b>: are represented by numbers resulting from a count or measurement. They can be of two types\n",
    "\n",
    "> <b>Discrete variables</b>: the values represent a finite or enumerable set of numbers, which result from a count, for example: Number of children (0,1,2, ...), number of bacteria per sample, number of glasses of beer taken by day.\n",
    "\n",
    "\n",
    "### Qualitative Variables - Nominal\n",
    "\n",
    "> <b>Qualitative Variables</b>: they represent a quality (or attribute) of a researched individual, they are defined by several categories. These are characteristics that do not have quantitative values. These variables can be of two nominal and ordinal types:\n",
    "\n",
    "> <b>Nominal variable: </b>: when there is no order in the possible representations. Examples: sex, eye color, hair color, smoker / non-smoker.\n",
    "\n",
    "\n",
    "### Qualitative Variables - Ordinal\n",
    "\n",
    "> <b>Qualitative Variables</b>: they represent a quality (or attribute) of a researched individual, they are defined by several categories. These are characteristics that do not have quantitative values. These variables can be of two nominal and ordinal types:\n",
    "\n",
    "> <b>Ordinal variable</b>: when they present an order in their results. Examples: schooling (1, 2, 3 degrees), observation month (January, February,…, December.)"
   ]
  },
  {
   "cell_type": "code",
   "execution_count": 11,
   "metadata": {},
   "outputs": [
    {
     "data": {
      "text/plain": [
       "Mthly_HH_Income              int64\n",
       "Mthly_HH_Expense             int64\n",
       "No_of_Fly_Members            int64\n",
       "Emi_or_Rent_Amt              int64\n",
       "Annual_HH_Income             int64\n",
       "Highest_Qualified_Member    object\n",
       "No_of_Earning_Members        int64\n",
       "dtype: object"
      ]
     },
     "execution_count": 11,
     "metadata": {},
     "output_type": "execute_result"
    }
   ],
   "source": [
    "income_df.dtypes"
   ]
  },
  {
   "cell_type": "code",
   "execution_count": 12,
   "metadata": {},
   "outputs": [
    {
     "data": {
      "text/html": [
       "<div>\n",
       "<style scoped>\n",
       "    .dataframe tbody tr th:only-of-type {\n",
       "        vertical-align: middle;\n",
       "    }\n",
       "\n",
       "    .dataframe tbody tr th {\n",
       "        vertical-align: top;\n",
       "    }\n",
       "\n",
       "    .dataframe thead th {\n",
       "        text-align: right;\n",
       "    }\n",
       "</style>\n",
       "<table border=\"1\" class=\"dataframe\">\n",
       "  <thead>\n",
       "    <tr style=\"text-align: right;\">\n",
       "      <th></th>\n",
       "      <th>count</th>\n",
       "      <th>mean</th>\n",
       "      <th>std</th>\n",
       "      <th>min</th>\n",
       "      <th>25%</th>\n",
       "      <th>50%</th>\n",
       "      <th>75%</th>\n",
       "      <th>max</th>\n",
       "    </tr>\n",
       "  </thead>\n",
       "  <tbody>\n",
       "    <tr>\n",
       "      <th>Mthly_HH_Income</th>\n",
       "      <td>50.0</td>\n",
       "      <td>41558.00</td>\n",
       "      <td>26097.908979</td>\n",
       "      <td>5000.0</td>\n",
       "      <td>23550.0</td>\n",
       "      <td>35000.0</td>\n",
       "      <td>50375.0</td>\n",
       "      <td>100000.0</td>\n",
       "    </tr>\n",
       "    <tr>\n",
       "      <th>Mthly_HH_Expense</th>\n",
       "      <td>50.0</td>\n",
       "      <td>18818.00</td>\n",
       "      <td>12090.216824</td>\n",
       "      <td>2000.0</td>\n",
       "      <td>10000.0</td>\n",
       "      <td>15500.0</td>\n",
       "      <td>25000.0</td>\n",
       "      <td>50000.0</td>\n",
       "    </tr>\n",
       "    <tr>\n",
       "      <th>No_of_Fly_Members</th>\n",
       "      <td>50.0</td>\n",
       "      <td>4.06</td>\n",
       "      <td>1.517382</td>\n",
       "      <td>1.0</td>\n",
       "      <td>3.0</td>\n",
       "      <td>4.0</td>\n",
       "      <td>5.0</td>\n",
       "      <td>7.0</td>\n",
       "    </tr>\n",
       "    <tr>\n",
       "      <th>Emi_or_Rent_Amt</th>\n",
       "      <td>50.0</td>\n",
       "      <td>3060.00</td>\n",
       "      <td>6241.434948</td>\n",
       "      <td>0.0</td>\n",
       "      <td>0.0</td>\n",
       "      <td>0.0</td>\n",
       "      <td>3500.0</td>\n",
       "      <td>35000.0</td>\n",
       "    </tr>\n",
       "    <tr>\n",
       "      <th>Annual_HH_Income</th>\n",
       "      <td>50.0</td>\n",
       "      <td>490019.04</td>\n",
       "      <td>320135.792123</td>\n",
       "      <td>64200.0</td>\n",
       "      <td>258750.0</td>\n",
       "      <td>447420.0</td>\n",
       "      <td>594720.0</td>\n",
       "      <td>1404000.0</td>\n",
       "    </tr>\n",
       "    <tr>\n",
       "      <th>No_of_Earning_Members</th>\n",
       "      <td>50.0</td>\n",
       "      <td>1.46</td>\n",
       "      <td>0.734291</td>\n",
       "      <td>1.0</td>\n",
       "      <td>1.0</td>\n",
       "      <td>1.0</td>\n",
       "      <td>2.0</td>\n",
       "      <td>4.0</td>\n",
       "    </tr>\n",
       "  </tbody>\n",
       "</table>\n",
       "</div>"
      ],
      "text/plain": [
       "                       count       mean            std      min       25%  \\\n",
       "Mthly_HH_Income         50.0   41558.00   26097.908979   5000.0   23550.0   \n",
       "Mthly_HH_Expense        50.0   18818.00   12090.216824   2000.0   10000.0   \n",
       "No_of_Fly_Members       50.0       4.06       1.517382      1.0       3.0   \n",
       "Emi_or_Rent_Amt         50.0    3060.00    6241.434948      0.0       0.0   \n",
       "Annual_HH_Income        50.0  490019.04  320135.792123  64200.0  258750.0   \n",
       "No_of_Earning_Members   50.0       1.46       0.734291      1.0       1.0   \n",
       "\n",
       "                            50%       75%        max  \n",
       "Mthly_HH_Income         35000.0   50375.0   100000.0  \n",
       "Mthly_HH_Expense        15500.0   25000.0    50000.0  \n",
       "No_of_Fly_Members           4.0       5.0        7.0  \n",
       "Emi_or_Rent_Amt             0.0    3500.0    35000.0  \n",
       "Annual_HH_Income       447420.0  594720.0  1404000.0  \n",
       "No_of_Earning_Members       1.0       2.0        4.0  "
      ]
     },
     "execution_count": 12,
     "metadata": {},
     "output_type": "execute_result"
    }
   ],
   "source": [
    "income_df.describe().T"
   ]
  },
  {
   "cell_type": "markdown",
   "metadata": {},
   "source": [
    "## B. Frequency distributions\n",
    "\n",
    "><b> The frequency distribution shows us a grouping of summary data, divided into mutually exclusive classes and the number of occurrences of a class. It is a way of showing, for example, disorganized data to show the results of an election, the income of people for a given region, the sales of a product within a certain period, the student loan amounts of graduates, etc. Some of the graphs that can be used with frequency distributions can be: histogram, line graph, bar graph and pie graph. Frequency distributions are used for both qualitative and quantitative data</b>."
   ]
  },
  {
   "cell_type": "markdown",
   "metadata": {},
   "source": [
    "## C. Histogram"
   ]
  },
  {
   "cell_type": "code",
   "execution_count": 13,
   "metadata": {},
   "outputs": [
    {
     "data": {
      "image/png": "[encoded data removed]",
      "text/plain": [
       "<matplotlib.figure.Figure at 0x288ac681da0>"
      ]
     },
     "metadata": {},
     "output_type": "display_data"
    }
   ],
   "source": [
    "xmin = income_df[\"Mthly_HH_Income\"].min()\n",
    "xmax = income_df[\"Mthly_HH_Income\"].max()\n",
    "\n",
    "plt.figure(figsize=(10,5))\n",
    "plt.hist(income_df[\"Mthly_HH_Income\"], bins=20, color='lightgreen', histtype='bar', edgecolor='black', linewidth=1.5)\n",
    "plt.xticks(arange(xmin, xmax, 10000))\n",
    "plt.title('Histogram of Monthly HH Income')\n",
    "plt.show()"
   ]
  },
  {
   "cell_type": "markdown",
   "metadata": {},
   "source": [
    "## D. Bar Plot"
   ]
  },
  {
   "cell_type": "code",
   "execution_count": 14,
   "metadata": {},
   "outputs": [
    {
     "data": {
      "text/html": [
       "<div>\n",
       "<style scoped>\n",
       "    .dataframe tbody tr th:only-of-type {\n",
       "        vertical-align: middle;\n",
       "    }\n",
       "\n",
       "    .dataframe tbody tr th {\n",
       "        vertical-align: top;\n",
       "    }\n",
       "\n",
       "    .dataframe thead th {\n",
       "        text-align: right;\n",
       "    }\n",
       "</style>\n",
       "<table border=\"1\" class=\"dataframe\">\n",
       "  <thead>\n",
       "    <tr style=\"text-align: right;\">\n",
       "      <th></th>\n",
       "      <th>Highest_Qualified_Member</th>\n",
       "    </tr>\n",
       "  </thead>\n",
       "  <tbody>\n",
       "    <tr>\n",
       "      <th>Graduate</th>\n",
       "      <td>19</td>\n",
       "    </tr>\n",
       "    <tr>\n",
       "      <th>Under-Graduate</th>\n",
       "      <td>10</td>\n",
       "    </tr>\n",
       "    <tr>\n",
       "      <th>Professional</th>\n",
       "      <td>10</td>\n",
       "    </tr>\n",
       "    <tr>\n",
       "      <th>Post-Graduate</th>\n",
       "      <td>6</td>\n",
       "    </tr>\n",
       "    <tr>\n",
       "      <th>Illiterate</th>\n",
       "      <td>5</td>\n",
       "    </tr>\n",
       "  </tbody>\n",
       "</table>\n",
       "</div>"
      ],
      "text/plain": [
       "                Highest_Qualified_Member\n",
       "Graduate                              19\n",
       "Under-Graduate                        10\n",
       "Professional                          10\n",
       "Post-Graduate                          6\n",
       "Illiterate                             5"
      ]
     },
     "execution_count": 14,
     "metadata": {},
     "output_type": "execute_result"
    }
   ],
   "source": [
    "hqm_table = income_df[\"Highest_Qualified_Member\"].value_counts()\n",
    "hqm_table.to_frame()"
   ]
  },
  {
   "cell_type": "code",
   "execution_count": 15,
   "metadata": {},
   "outputs": [
    {
     "data": {
      "image/png": "[encoded data removed]",
      "text/plain": [
       "<matplotlib.figure.Figure at 0x288af778470>"
      ]
     },
     "metadata": {},
     "output_type": "display_data"
    }
   ],
   "source": [
    "plt.figure(figsize=(10,5))\n",
    "hqm_table.plot(kind='barh')\n",
    "plt.xticks([5*x for x in arange(5)])\n",
    "plt.title('Bar Plot of Highest Qualified Member')\n",
    "\n",
    "for i, v in enumerate(hqm_table.values):\n",
    "    plt.text(v + 0.35, i, str(v), color='blue', fontweight='bold')\n",
    "\n",
    "plt.show()"
   ]
  },
  {
   "cell_type": "markdown",
   "metadata": {},
   "source": [
    "## E. Central tendency measures\n",
    "\n",
    "><b> In statistics, a central trend (or, normally, a measure of central trend) is a central value or typical value for a probability distribution. The most common measures of central tendency are the arithmetic mean, the median and the mode. Central trends can be calculated both for a finite number of values and for a theoretical distribution, like the normal distribution. Occasionally authors use a central tendency (or centrality), meaning \"the tendency of quantitative data to group around a central value.\" Such meaning can be expected from the usual definition of the words trend and centrality in the dictionary. Authors can judge whether data has a strong or weak central tendency based on statistical dispersion, measured by standard deviation or something similar.</b>\n"
   ]
  },
  {
   "cell_type": "code",
   "execution_count": 16,
   "metadata": {},
   "outputs": [
    {
     "data": {
      "image/jpeg": "[encoded data removed]",
      "text/html": [
       "\n",
       "        <iframe\n",
       "            width=\"1000\"\n",
       "            height=\"600\"\n",
       "            src=\"https://www.youtube.com/embed/kn83BA7cRNM\"\n",
       "            frameborder=\"0\"\n",
       "            allowfullscreen\n",
       "        ></iframe>\n",
       "        "
      ],
      "text/plain": [
       "<IPython.lib.display.YouTubeVideo at 0x288a4e6fe10>"
      ]
     },
     "execution_count": 16,
     "metadata": {},
     "output_type": "execute_result"
    }
   ],
   "source": [
    "# video link\n",
    "# https://youtu.be/kn83BA7cRNM\n",
    "from IPython.display import YouTubeVideo\n",
    "YouTubeVideo('kn83BA7cRNM', width=1000, height=600)"
   ]
  },
  {
   "cell_type": "markdown",
   "metadata": {},
   "source": [
    "### Arithmetic average:\n",
    "\n",
    "> In statistics, mean is defined as the value that shows the concentration of the data in a distribution, as the equilibrium point of the frequencies in a histogram. Average is also interpreted as a significant value in a list of numbers.\n",
    "\n",
    "> ## $\\mu = \\frac{1}{n}\\sum_{i=0}^{n}X_i$"
   ]
  },
  {
   "cell_type": "markdown",
   "metadata": {},
   "source": [
    "### What is the Mean Monthly Expense of a Household?"
   ]
  },
  {
   "cell_type": "code",
   "execution_count": 17,
   "metadata": {},
   "outputs": [
    {
     "data": {
      "text/plain": [
       "18818.0"
      ]
     },
     "execution_count": 17,
     "metadata": {},
     "output_type": "execute_result"
    }
   ],
   "source": [
    "income_df[\"Mthly_HH_Expense\"].mean()"
   ]
  },
  {
   "cell_type": "markdown",
   "metadata": {},
   "source": [
    "### Median\n",
    "\n",
    "> Median is the value that separates the major and minor half of a sample, population or probability distribution. In simpler terms, median can be the middle value of a data set. In the data set {1, 3, 3, 6, 7, 8, 9}, for example, the median is 6.\n",
    "\n",
    "To obtain the median of a data set, we must proceed as follows:\n",
    "1. Sort the dataset;\n",
    "2. Identify the number of observations (records) in the data set ($n$);\n",
    "3. Identify the middle element:\n",
    "\n",
    "> When $n$ is odd, the position of the median element will be obtained as follows:\n",
    "\n",
    "\n",
    "## $$element_{Md} = \\frac{n}2$$\n",
    "\n",
    "4. Get the median:\n",
    "\n",
    "> When $ n $ is odd:\n",
    "\n",
    "\n",
    "## $$Md = X_{Element_{Md}}$$\n",
    "\n",
    "> When $ n $ is even:\n",
    "\n",
    "\n",
    "## $$Md = \\frac{X_{Element_{Md}} + X_{Element_{Md}+1}}2$$\n"
   ]
  },
  {
   "cell_type": "markdown",
   "metadata": {},
   "source": [
    "### What is the Median Monthly Household Expense?"
   ]
  },
  {
   "cell_type": "code",
   "execution_count": 18,
   "metadata": {},
   "outputs": [
    {
     "data": {
      "text/plain": [
       "15500.0"
      ]
     },
     "execution_count": 18,
     "metadata": {},
     "output_type": "execute_result"
    }
   ],
   "source": [
    "income_df[\"Mthly_HH_Expense\"].median()"
   ]
  },
  {
   "cell_type": "markdown",
   "metadata": {},
   "source": [
    "### Mode\n",
    "\n",
    "><b> Mode signifies the value that occurs most frequently or the most common value in a variable.</b>"
   ]
  },
  {
   "cell_type": "code",
   "execution_count": 19,
   "metadata": {},
   "outputs": [
    {
     "data": {
      "text/plain": [
       "Graduate    19\n",
       "Name: Highest_Qualified_Member, dtype: int64"
      ]
     },
     "execution_count": 19,
     "metadata": {},
     "output_type": "execute_result"
    }
   ],
   "source": [
    "income_df[\"Highest_Qualified_Member\"].value_counts().nlargest(1)"
   ]
  },
  {
   "cell_type": "markdown",
   "metadata": {},
   "source": [
    "<center> <b>Multiple Modes?\n",
    "\n",
    "<img src=\"modal.png\">"
   ]
  },
  {
   "cell_type": "markdown",
   "metadata": {},
   "source": [
    "### F. Skewness\n",
    "\n",
    "\n",
    "<center><img src=\"https://keydifferences.com/wp-content/uploads/2016/04/mean-vs-median.jpg\"></center>"
   ]
  },
  {
   "cell_type": "code",
   "execution_count": 20,
   "metadata": {},
   "outputs": [
    {
     "data": {
      "image/png": "[encoded data removed]",
      "text/plain": [
       "<matplotlib.figure.Figure at 0x288af7d7c50>"
      ]
     },
     "metadata": {},
     "output_type": "display_data"
    }
   ],
   "source": [
    "import seaborn as sns\n",
    "\n",
    "plt.figure(figsize=(10,5))\n",
    "sns.distplot(income_df[\"Emi_or_Rent_Amt\"], color='lightgreen')\n",
    "plt.axvline(income_df[\"Emi_or_Rent_Amt\"].mean(), c='r')\n",
    "plt.axvline(income_df[\"Emi_or_Rent_Amt\"].median(), c='k')\n",
    "plt.xlim((-1e3,45e3))\n",
    "plt.title('Histogram of EMI/Rent Amount with mean (red) and median (black)')\n",
    "plt.show()"
   ]
  }
 ],
 "metadata": {
  "kernelspec": {
   "display_name": "Python 3",
   "language": "python",
   "name": "python3"
  },
  "language_info": {
   "codemirror_mode": {
    "name": "ipython",
    "version": 3
   },
   "file_extension": ".py",
   "mimetype": "text/x-python",
   "name": "python",
   "nbconvert_exporter": "python",
   "pygments_lexer": "ipython3",
   "version": "3.5.3"
  }
 },
 "nbformat": 4,
 "nbformat_minor": 4
}
