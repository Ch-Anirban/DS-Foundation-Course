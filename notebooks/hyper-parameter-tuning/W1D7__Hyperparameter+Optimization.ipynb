{
 "cells": [
  {
   "cell_type": "markdown",
   "metadata": {},
   "source": [
    "# Continued...."
   ]
  },
  {
   "cell_type": "markdown",
   "metadata": {},
   "source": [
    "<center><img src=https://miro.medium.com/max/3076/1*FIIGhzbuTo2vI62mFcbMTg.png>"
   ]
  },
  {
   "cell_type": "markdown",
   "metadata": {},
   "source": [
    "# What is a Model Parameter?\n",
    "\n",
    "---\n",
    "\n",
    "A model parameter is a configuration variable that is internal to the model and whose value can be estimated from data.\n",
    "\n",
    "> * They are required by the model when making predictions.\n",
    "\n",
    "> * They values define the skill of the model on your problem.\n",
    "\n",
    "> * They are estimated or learned from data.\n",
    "\n",
    "> * They are often not set manually by the practitioner.\n",
    "\n",
    "> * They are often saved as part of the learned model.\n",
    "\n",
    "Parameters are key to machine learning algorithms. They are the part of the model that is learned from historical training data.\n",
    "\n",
    "In classical machine learning literature, we may think of the model as the hypothesis and the parameters as the tailoring of the hypothesis to a specific set of data.\n",
    "\n",
    "An example of model parameter:\n",
    "\n",
    "> The coefficients in a linear regression or logistic regression."
   ]
  },
  {
   "cell_type": "markdown",
   "metadata": {},
   "source": [
    "# What is a Model Hyperparameter?\n",
    "\n",
    "---\n",
    "\n",
    "A model hyperparameter is a configuration that is external to the model and whose value cannot be estimated from data.\n",
    "\n",
    "> * They are often used in processes to help estimate model parameters.\n",
    "\n",
    "> * They are often specified by the practitioner.\n",
    "\n",
    "> * They can often be set using heuristics.\n",
    "\n",
    "> * They are often tuned for a given predictive modeling problem.\n",
    "\n",
    "We cannot know the best value for a model hyperparameter on a given problem. We may use rules of thumb, copy values used on other problems, or search for the best value by trial and error.\n",
    "\n",
    "When a machine learning algorithm is tuned for a specific problem, such as when you are using a grid search or a random search, then you are tuning the hyperparameters of the model or order to discover the parameters of the model that result in the most skillful predictions.\n",
    "\n",
    "Some examples of model hyperparameters include:\n",
    "\n",
    "> The learning rate for training a GBM.\n",
    "\n",
    "> The L2 regulariation parameter $ \\lambda $ for training a logistic regression."
   ]
  },
  {
   "attachments": {},
   "cell_type": "markdown",
   "metadata": {},
   "source": [
    "# Cross Validation\n",
    "\n",
    "---\n",
    "\n",
    "<center><img src=https://miro.medium.com/max/677/1*qPMFLEbvc8QQf38Cf77wQg.png></center>\n",
    "\n",
    "There are different types of Cross Validation Techniques but the overall concept remains the same,\n",
    "\n",
    "> 1.To partition the data into a number of subsets\n",
    "\n",
    "> 2.Hold out a set at a time and train the model on remaining set\n",
    "\n",
    "> 3.Test model on hold out set\n",
    "\n",
    "Major types of Cross Validation:\n",
    "\n",
    "> * K-Fold Cross Validation\n",
    "\n",
    "> * Stratified K-fold Cross Validation\n",
    "\n",
    "### k-Fold Cross Validation\n",
    "\n",
    "<center><img src=https://miro.medium.com/max/700/1*rgba1BIOUys7wQcXcL4U5A.png></center>\n",
    "\n",
    "The procedure has a single parameter called k that refers to the number of groups that a given data sample is to be split into. As such, the procedure is often called k-fold cross-validation. When a specific value for k is chosen, it may be used in place of k in the reference to the model, such as k=10 becoming 10-fold cross-validation.\n",
    "If k=5 the dataset will be divided into 5 equal parts and the below process will run 5 times, each time with a different holdout set.\n",
    "> 1. Take the group as a holdout or test data set\n",
    "> 2. Take the remaining groups as a training data set\n",
    "> 3. Fit a model on the training set and evaluate it on the test set\n",
    "> 4. Retain the evaluation score and discard the model\n",
    "\n",
    "At the end of the above process Summarize the skill of the model using the sample of model evaluation scores.\n",
    "\n",
    "### Stratified k-Fold Cross Validation\n",
    "\n",
    "<center><img src=https://miro.medium.com/max/700/1*D9OJZ-n0xh9d87i58WfMLQ.png></center>\n",
    "\n",
    "Same as K-Fold Cross Validation, just a slight difference\n",
    "The splitting of data into folds may be governed by criteria such as ensuring that each fold has the same proportion of observations with a given categorical value, such as the class outcome value. This is called stratified cross-validation.\n",
    "\n",
    "<font color=\"red\"> Food for thought: What should be the right choice for k?"
   ]
  },
  {
   "cell_type": "code",
   "execution_count": 5,
   "metadata": {},
   "outputs": [
    {
     "data": {
      "text/plain": [
       "DecisionTreeClassifier(class_weight=None, criterion='gini', max_depth=3,\n",
       "            max_features=None, max_leaf_nodes=None,\n",
       "            min_impurity_decrease=0.0, min_impurity_split=None,\n",
       "            min_samples_leaf=5, min_samples_split=10,\n",
       "            min_weight_fraction_leaf=0.0, presort=False, random_state=0,\n",
       "            splitter='best')"
      ]
     },
     "execution_count": 5,
     "metadata": {},
     "output_type": "execute_result"
    }
   ],
   "source": [
    "clf"
   ]
  },
  {
   "cell_type": "code",
   "execution_count": 6,
   "metadata": {},
   "outputs": [
    {
     "data": {
      "text/plain": [
       "{'class_weight': None,\n",
       " 'criterion': 'gini',\n",
       " 'max_depth': 3,\n",
       " 'max_features': None,\n",
       " 'max_leaf_nodes': None,\n",
       " 'min_impurity_decrease': 0.0,\n",
       " 'min_impurity_split': None,\n",
       " 'min_samples_leaf': 5,\n",
       " 'min_samples_split': 10,\n",
       " 'min_weight_fraction_leaf': 0.0,\n",
       " 'presort': False,\n",
       " 'random_state': 0,\n",
       " 'splitter': 'best'}"
      ]
     },
     "execution_count": 6,
     "metadata": {},
     "output_type": "execute_result"
    }
   ],
   "source": [
    "clf.get_params()"
   ]
  },
  {
   "cell_type": "code",
   "execution_count": 7,
   "metadata": {
    "collapsed": true
   },
   "outputs": [],
   "source": [
    "from sklearn.model_selection import StratifiedKFold\n",
    "\n",
    "cv = StratifiedKFold(n_splits=5, random_state=111)"
   ]
  },
  {
   "cell_type": "code",
   "execution_count": 8,
   "metadata": {},
   "outputs": [
    {
     "name": "stdout",
     "output_type": "stream",
     "text": [
      "TRAIN: [1300 1346 1377 ... 7497 7498 7499] TEST: [   0    1    2 ... 1503 1504 1505]\n",
      "TRAIN: [   0    1    2 ... 7497 7498 7499] TEST: [1300 1346 1377 ... 3016 3017 3018]\n",
      "TRAIN: [   0    1    2 ... 7497 7498 7499] TEST: [2631 2669 2697 ... 4511 4512 4513]\n",
      "TRAIN: [   0    1    2 ... 7497 7498 7499] TEST: [4090 4102 4119 ... 6005 6006 6007]\n",
      "TRAIN: [   0    1    2 ... 6005 6006 6007] TEST: [5719 5749 5790 ... 7497 7498 7499]\n"
     ]
    }
   ],
   "source": [
    "for train_index, test_index in cv.split(X_train, y_train):\n",
    "    print(\"TRAIN:\", train_index, \"TEST:\", test_index)"
   ]
  },
  {
   "cell_type": "code",
   "execution_count": 9,
   "metadata": {
    "collapsed": true
   },
   "outputs": [],
   "source": [
    "from sklearn.model_selection import cross_val_score"
   ]
  },
  {
   "cell_type": "code",
   "execution_count": 10,
   "metadata": {},
   "outputs": [
    {
     "data": {
      "text/plain": [
       "array([0.39583333, 0.3125    , 0.4893617 , 0.19148936, 0.42553191])"
      ]
     },
     "execution_count": 10,
     "metadata": {},
     "output_type": "execute_result"
    }
   ],
   "source": [
    "cv_results = cross_val_score(estimator=clf, X=X_train, y=y_train, cv=cv, scoring='recall', n_jobs=-1)\n",
    "cv_results"
   ]
  },
  {
   "cell_type": "code",
   "execution_count": 11,
   "metadata": {},
   "outputs": [
    {
     "data": {
      "image/png": "[encoded data removed]",
      "text/plain": [
       "<matplotlib.figure.Figure at 0x2070919b128>"
      ]
     },
     "metadata": {},
     "output_type": "display_data"
    }
   ],
   "source": [
    "plt.figure(figsize=(10, 4))\n",
    "pd.Series(cv_results).plot(marker=\"*\", c=\"k\")\n",
    "plt.xticks(range(cv.get_n_splits()))\n",
    "plt.xlabel('Split')\n",
    "plt.ylabel('Recall')\n",
    "plt.axhline(recall_score(y_train, clf.predict(X_train)), c='r')\n",
    "plt.title('Decision Tree CV results')\n",
    "plt.text(0, 0.41, 'overall recall', color='r')\n",
    "plt.show()"
   ]
  },
  {
   "cell_type": "markdown",
   "metadata": {},
   "source": [
    "## Hyperparameter tuning\n",
    "\n",
    "---\n",
    "\n",
    "In general, the process of tuning includes:\n",
    "\n",
    "> * Define a model\n",
    "\n",
    "> * Define the range of possible values for all hyperparameters\n",
    "\n",
    "> * Define a method for sampling hyperparameter values\n",
    "\n",
    "> * Define an evaluative criteria to judge the model\n",
    "\n",
    "> * Define a cross-validation method\n",
    "\n",
    "Now talking about sampling of hyperparameter values, there can be many ways such as:\n",
    "\n",
    "> 1. **Manual Trial-and-error**\n",
    "\n",
    "> 2. **Exhaustive search**\n",
    "\n",
    "> 3. **Random search**\n",
    "\n",
    "> 4. **Prior belief (bayesian optimization)**"
   ]
  },
  {
   "cell_type": "code",
   "execution_count": 12,
   "metadata": {
    "collapsed": true
   },
   "outputs": [],
   "source": [
    "from sklearn.model_selection import GridSearchCV"
   ]
  },
  {
   "cell_type": "code",
   "execution_count": 13,
   "metadata": {},
   "outputs": [
    {
     "name": "stdout",
     "output_type": "stream",
     "text": [
      "Fitting 5 folds for each of 60 candidates, totalling 300 fits\n"
     ]
    },
    {
     "name": "stderr",
     "output_type": "stream",
     "text": [
      "[Parallel(n_jobs=-1)]: Done  45 tasks      | elapsed:   12.0s\n"
     ]
    },
    {
     "name": "stdout",
     "output_type": "stream",
     "text": [
      "Wall time: 15.5 s\n"
     ]
    },
    {
     "name": "stderr",
     "output_type": "stream",
     "text": [
      "[Parallel(n_jobs=-1)]: Done 300 out of 300 | elapsed:   15.0s finished\n"
     ]
    }
   ],
   "source": [
    "%%time\n",
    "param_grid = {\n",
    "             'max_depth': np.arange(2, 11, 2), \\\n",
    "             'min_samples_split': np.arange(20, 56, 10), \\\n",
    "             'min_samples_leaf': np.arange(5, 20, 5)\n",
    "            }\n",
    "\n",
    "grid_search_results = GridSearchCV(estimator=clf, param_grid=param_grid, cv=cv, scoring='recall', \\\n",
    "                                  iid=False, refit=True, n_jobs=-1, verbose=1)\n",
    "\n",
    "grid_search_results.fit(X_train, y_train)"
   ]
  },
  {
   "cell_type": "code",
   "execution_count": 14,
   "metadata": {},
   "outputs": [
    {
     "data": {
      "text/plain": [
       "DecisionTreeClassifier(class_weight=None, criterion='gini', max_depth=6,\n",
       "            max_features=None, max_leaf_nodes=None,\n",
       "            min_impurity_decrease=0.0, min_impurity_split=None,\n",
       "            min_samples_leaf=15, min_samples_split=50,\n",
       "            min_weight_fraction_leaf=0.0, presort=False, random_state=0,\n",
       "            splitter='best')"
      ]
     },
     "execution_count": 14,
     "metadata": {},
     "output_type": "execute_result"
    }
   ],
   "source": [
    "grid_search_results.best_estimator_"
   ]
  },
  {
   "cell_type": "code",
   "execution_count": 15,
   "metadata": {},
   "outputs": [
    {
     "data": {
      "text/plain": [
       "{'max_depth': 6, 'min_samples_leaf': 15, 'min_samples_split': 50}"
      ]
     },
     "execution_count": 15,
     "metadata": {},
     "output_type": "execute_result"
    }
   ],
   "source": [
    "grid_search_results.best_params_"
   ]
  },
  {
   "cell_type": "code",
   "execution_count": 16,
   "metadata": {},
   "outputs": [
    {
     "data": {
      "text/plain": [
       "0.3671985815602837"
      ]
     },
     "execution_count": 16,
     "metadata": {},
     "output_type": "execute_result"
    }
   ],
   "source": [
    "grid_search_results.best_score_"
   ]
  },
  {
   "cell_type": "code",
   "execution_count": 17,
   "metadata": {},
   "outputs": [
    {
     "data": {
      "text/plain": [
       "{'mean_fit_time': array([0.02812243, 0.03124804, 0.03124681, 0.02812338, 0.03749709,\n",
       "        0.02187309, 0.03437181, 0.02812419, 0.02499981, 0.02812366,\n",
       "        0.02812343, 0.02779078, 0.05826564, 0.05714221, 0.04062166,\n",
       "        0.04062247, 0.04687204, 0.05936909, 0.04687095, 0.03749714,\n",
       "        0.02499843, 0.03437023, 0.03124881, 0.02499566, 0.03436909,\n",
       "        0.03749952, 0.03436937, 0.03124537, 0.03749743, 0.03124843,\n",
       "        0.03124681, 0.02812223, 0.02812333, 0.02499843, 0.02499862,\n",
       "        0.02812386, 0.03124614, 0.03437324, 0.03437276, 0.03124752,\n",
       "        0.02812338, 0.03124747, 0.0312479 , 0.02812338, 0.0281229 ,\n",
       "        0.02499828, 0.03124752, 0.0281219 , 0.03124719, 0.02499824,\n",
       "        0.03124747, 0.03749709, 0.02499704, 0.02187319, 0.01874852,\n",
       "        0.02187252, 0.01874762, 0.01562433, 0.02187347, 0.01874819]),\n",
       " 'mean_score_time': array([0.00624847, 0.00624967, 0.01249895, 0.00937471, 0.        ,\n",
       "        0.00937414, 0.00624995, 0.00624866, 0.00312457, 0.00624924,\n",
       "        0.00312448, 0.01702332, 0.00128284, 0.00139914, 0.0062501 ,\n",
       "        0.00624962, 0.00937405, 0.00312576, 0.00937452, 0.        ,\n",
       "        0.01249881, 0.        , 0.00312405, 0.00625057, 0.        ,\n",
       "        0.00624828, 0.00625019, 0.00312572, 0.00937414, 0.00624938,\n",
       "        0.003125  , 0.00624976, 0.00312471, 0.00937438, 0.003125  ,\n",
       "        0.00312457, 0.0031249 , 0.00312457, 0.        , 0.0062499 ,\n",
       "        0.        , 0.00312519, 0.00312419, 0.        , 0.00624971,\n",
       "        0.00625024, 0.        , 0.00624957, 0.00312481, 0.00624895,\n",
       "        0.00312481, 0.        , 0.00624938, 0.00312486, 0.00312433,\n",
       "        0.00312529, 0.00624981, 0.00312438, 0.00624967, 0.0031249 ]),\n",
       " 'mean_test_score': array([0.26152482, 0.26152482, 0.26152482, 0.26152482, 0.26152482,\n",
       "        0.26152482, 0.26152482, 0.26152482, 0.26152482, 0.26152482,\n",
       "        0.26152482, 0.26152482, 0.31666667, 0.31666667, 0.31666667,\n",
       "        0.33785461, 0.27473404, 0.27473404, 0.28324468, 0.32960993,\n",
       "        0.31241135, 0.31241135, 0.31241135, 0.36294326, 0.31241135,\n",
       "        0.29539007, 0.32083333, 0.3462766 , 0.30443262, 0.28324468,\n",
       "        0.28324468, 0.33386525, 0.28741135, 0.28741135, 0.31241135,\n",
       "        0.36719858, 0.30398936, 0.29964539, 0.30806738, 0.34202128,\n",
       "        0.30443262, 0.29175532, 0.28324468, 0.33386525, 0.28741135,\n",
       "        0.28741135, 0.31241135, 0.36719858, 0.29973404, 0.30390071,\n",
       "        0.3123227 , 0.3462766 , 0.30859929, 0.28324468, 0.28324468,\n",
       "        0.33386525, 0.28741135, 0.28741135, 0.31241135, 0.36719858]),\n",
       " 'mean_train_score': array([0.27008633, 0.27008633, 0.27008633, 0.27008633, 0.27008633,\n",
       "        0.27008633, 0.27008633, 0.27008633, 0.27008633, 0.27008633,\n",
       "        0.27008633, 0.27008633, 0.36718463, 0.36718463, 0.36718463,\n",
       "        0.3945809 , 0.3270621 , 0.3270621 , 0.33443052, 0.38926761,\n",
       "        0.34603175, 0.34603175, 0.34603175, 0.39561682, 0.39879699,\n",
       "        0.3608577 , 0.37984962, 0.40724589, 0.37445837, 0.34074631,\n",
       "        0.34074631, 0.3955834 , 0.33862434, 0.33862434, 0.34603175,\n",
       "        0.39561682, 0.40618212, 0.36824283, 0.36618212, 0.4104205 ,\n",
       "        0.37445837, 0.3470621 , 0.34074631, 0.3955834 , 0.33862434,\n",
       "        0.33862434, 0.34603175, 0.39561682, 0.41355054, 0.37666388,\n",
       "        0.36934002, 0.4104205 , 0.37445837, 0.34074631, 0.34074631,\n",
       "        0.3955834 , 0.33862434, 0.33862434, 0.34603175, 0.39561682]),\n",
       " 'param_max_depth': masked_array(data=[2, 2, 2, 2, 2, 2, 2, 2, 2, 2, 2, 2, 4, 4, 4, 4, 4, 4,\n",
       "                    4, 4, 4, 4, 4, 4, 6, 6, 6, 6, 6, 6, 6, 6, 6, 6, 6, 6,\n",
       "                    8, 8, 8, 8, 8, 8, 8, 8, 8, 8, 8, 8, 10, 10, 10, 10, 10,\n",
       "                    10, 10, 10, 10, 10, 10, 10],\n",
       "              mask=[False, False, False, False, False, False, False, False,\n",
       "                    False, False, False, False, False, False, False, False,\n",
       "                    False, False, False, False, False, False, False, False,\n",
       "                    False, False, False, False, False, False, False, False,\n",
       "                    False, False, False, False, False, False, False, False,\n",
       "                    False, False, False, False, False, False, False, False,\n",
       "                    False, False, False, False, False, False, False, False,\n",
       "                    False, False, False, False],\n",
       "        fill_value='?',\n",
       "             dtype=object),\n",
       " 'param_min_samples_leaf': masked_array(data=[5, 5, 5, 5, 10, 10, 10, 10, 15, 15, 15, 15, 5, 5, 5, 5,\n",
       "                    10, 10, 10, 10, 15, 15, 15, 15, 5, 5, 5, 5, 10, 10, 10,\n",
       "                    10, 15, 15, 15, 15, 5, 5, 5, 5, 10, 10, 10, 10, 15, 15,\n",
       "                    15, 15, 5, 5, 5, 5, 10, 10, 10, 10, 15, 15, 15, 15],\n",
       "              mask=[False, False, False, False, False, False, False, False,\n",
       "                    False, False, False, False, False, False, False, False,\n",
       "                    False, False, False, False, False, False, False, False,\n",
       "                    False, False, False, False, False, False, False, False,\n",
       "                    False, False, False, False, False, False, False, False,\n",
       "                    False, False, False, False, False, False, False, False,\n",
       "                    False, False, False, False, False, False, False, False,\n",
       "                    False, False, False, False],\n",
       "        fill_value='?',\n",
       "             dtype=object),\n",
       " 'param_min_samples_split': masked_array(data=[20, 30, 40, 50, 20, 30, 40, 50, 20, 30, 40, 50, 20, 30,\n",
       "                    40, 50, 20, 30, 40, 50, 20, 30, 40, 50, 20, 30, 40, 50,\n",
       "                    20, 30, 40, 50, 20, 30, 40, 50, 20, 30, 40, 50, 20, 30,\n",
       "                    40, 50, 20, 30, 40, 50, 20, 30, 40, 50, 20, 30, 40, 50,\n",
       "                    20, 30, 40, 50],\n",
       "              mask=[False, False, False, False, False, False, False, False,\n",
       "                    False, False, False, False, False, False, False, False,\n",
       "                    False, False, False, False, False, False, False, False,\n",
       "                    False, False, False, False, False, False, False, False,\n",
       "                    False, False, False, False, False, False, False, False,\n",
       "                    False, False, False, False, False, False, False, False,\n",
       "                    False, False, False, False, False, False, False, False,\n",
       "                    False, False, False, False],\n",
       "        fill_value='?',\n",
       "             dtype=object),\n",
       " 'params': [{'max_depth': 2, 'min_samples_leaf': 5, 'min_samples_split': 20},\n",
       "  {'max_depth': 2, 'min_samples_leaf': 5, 'min_samples_split': 30},\n",
       "  {'max_depth': 2, 'min_samples_leaf': 5, 'min_samples_split': 40},\n",
       "  {'max_depth': 2, 'min_samples_leaf': 5, 'min_samples_split': 50},\n",
       "  {'max_depth': 2, 'min_samples_leaf': 10, 'min_samples_split': 20},\n",
       "  {'max_depth': 2, 'min_samples_leaf': 10, 'min_samples_split': 30},\n",
       "  {'max_depth': 2, 'min_samples_leaf': 10, 'min_samples_split': 40},\n",
       "  {'max_depth': 2, 'min_samples_leaf': 10, 'min_samples_split': 50},\n",
       "  {'max_depth': 2, 'min_samples_leaf': 15, 'min_samples_split': 20},\n",
       "  {'max_depth': 2, 'min_samples_leaf': 15, 'min_samples_split': 30},\n",
       "  {'max_depth': 2, 'min_samples_leaf': 15, 'min_samples_split': 40},\n",
       "  {'max_depth': 2, 'min_samples_leaf': 15, 'min_samples_split': 50},\n",
       "  {'max_depth': 4, 'min_samples_leaf': 5, 'min_samples_split': 20},\n",
       "  {'max_depth': 4, 'min_samples_leaf': 5, 'min_samples_split': 30},\n",
       "  {'max_depth': 4, 'min_samples_leaf': 5, 'min_samples_split': 40},\n",
       "  {'max_depth': 4, 'min_samples_leaf': 5, 'min_samples_split': 50},\n",
       "  {'max_depth': 4, 'min_samples_leaf': 10, 'min_samples_split': 20},\n",
       "  {'max_depth': 4, 'min_samples_leaf': 10, 'min_samples_split': 30},\n",
       "  {'max_depth': 4, 'min_samples_leaf': 10, 'min_samples_split': 40},\n",
       "  {'max_depth': 4, 'min_samples_leaf': 10, 'min_samples_split': 50},\n",
       "  {'max_depth': 4, 'min_samples_leaf': 15, 'min_samples_split': 20},\n",
       "  {'max_depth': 4, 'min_samples_leaf': 15, 'min_samples_split': 30},\n",
       "  {'max_depth': 4, 'min_samples_leaf': 15, 'min_samples_split': 40},\n",
       "  {'max_depth': 4, 'min_samples_leaf': 15, 'min_samples_split': 50},\n",
       "  {'max_depth': 6, 'min_samples_leaf': 5, 'min_samples_split': 20},\n",
       "  {'max_depth': 6, 'min_samples_leaf': 5, 'min_samples_split': 30},\n",
       "  {'max_depth': 6, 'min_samples_leaf': 5, 'min_samples_split': 40},\n",
       "  {'max_depth': 6, 'min_samples_leaf': 5, 'min_samples_split': 50},\n",
       "  {'max_depth': 6, 'min_samples_leaf': 10, 'min_samples_split': 20},\n",
       "  {'max_depth': 6, 'min_samples_leaf': 10, 'min_samples_split': 30},\n",
       "  {'max_depth': 6, 'min_samples_leaf': 10, 'min_samples_split': 40},\n",
       "  {'max_depth': 6, 'min_samples_leaf': 10, 'min_samples_split': 50},\n",
       "  {'max_depth': 6, 'min_samples_leaf': 15, 'min_samples_split': 20},\n",
       "  {'max_depth': 6, 'min_samples_leaf': 15, 'min_samples_split': 30},\n",
       "  {'max_depth': 6, 'min_samples_leaf': 15, 'min_samples_split': 40},\n",
       "  {'max_depth': 6, 'min_samples_leaf': 15, 'min_samples_split': 50},\n",
       "  {'max_depth': 8, 'min_samples_leaf': 5, 'min_samples_split': 20},\n",
       "  {'max_depth': 8, 'min_samples_leaf': 5, 'min_samples_split': 30},\n",
       "  {'max_depth': 8, 'min_samples_leaf': 5, 'min_samples_split': 40},\n",
       "  {'max_depth': 8, 'min_samples_leaf': 5, 'min_samples_split': 50},\n",
       "  {'max_depth': 8, 'min_samples_leaf': 10, 'min_samples_split': 20},\n",
       "  {'max_depth': 8, 'min_samples_leaf': 10, 'min_samples_split': 30},\n",
       "  {'max_depth': 8, 'min_samples_leaf': 10, 'min_samples_split': 40},\n",
       "  {'max_depth': 8, 'min_samples_leaf': 10, 'min_samples_split': 50},\n",
       "  {'max_depth': 8, 'min_samples_leaf': 15, 'min_samples_split': 20},\n",
       "  {'max_depth': 8, 'min_samples_leaf': 15, 'min_samples_split': 30},\n",
       "  {'max_depth': 8, 'min_samples_leaf': 15, 'min_samples_split': 40},\n",
       "  {'max_depth': 8, 'min_samples_leaf': 15, 'min_samples_split': 50},\n",
       "  {'max_depth': 10, 'min_samples_leaf': 5, 'min_samples_split': 20},\n",
       "  {'max_depth': 10, 'min_samples_leaf': 5, 'min_samples_split': 30},\n",
       "  {'max_depth': 10, 'min_samples_leaf': 5, 'min_samples_split': 40},\n",
       "  {'max_depth': 10, 'min_samples_leaf': 5, 'min_samples_split': 50},\n",
       "  {'max_depth': 10, 'min_samples_leaf': 10, 'min_samples_split': 20},\n",
       "  {'max_depth': 10, 'min_samples_leaf': 10, 'min_samples_split': 30},\n",
       "  {'max_depth': 10, 'min_samples_leaf': 10, 'min_samples_split': 40},\n",
       "  {'max_depth': 10, 'min_samples_leaf': 10, 'min_samples_split': 50},\n",
       "  {'max_depth': 10, 'min_samples_leaf': 15, 'min_samples_split': 20},\n",
       "  {'max_depth': 10, 'min_samples_leaf': 15, 'min_samples_split': 30},\n",
       "  {'max_depth': 10, 'min_samples_leaf': 15, 'min_samples_split': 40},\n",
       "  {'max_depth': 10, 'min_samples_leaf': 15, 'min_samples_split': 50}],\n",
       " 'rank_test_score': array([49, 49, 49, 49, 49, 49, 49, 49, 49, 49, 49, 49, 14, 14, 14,  8, 47,\n",
       "        47, 41, 12, 17, 17, 17,  4, 17, 33, 13,  5, 27, 41, 41,  9, 35, 35,\n",
       "        17,  1, 29, 32, 26,  7, 27, 34, 41,  9, 35, 35, 17,  1, 31, 30, 24,\n",
       "         5, 25, 41, 41,  9, 35, 35, 17,  1]),\n",
       " 'split0_test_score': array([0.33333333, 0.33333333, 0.33333333, 0.33333333, 0.33333333,\n",
       "        0.33333333, 0.33333333, 0.33333333, 0.33333333, 0.33333333,\n",
       "        0.33333333, 0.33333333, 0.29166667, 0.29166667, 0.29166667,\n",
       "        0.29166667, 0.22916667, 0.22916667, 0.22916667, 0.22916667,\n",
       "        0.39583333, 0.39583333, 0.39583333, 0.39583333, 0.29166667,\n",
       "        0.29166667, 0.29166667, 0.29166667, 0.1875    , 0.22916667,\n",
       "        0.22916667, 0.22916667, 0.27083333, 0.27083333, 0.39583333,\n",
       "        0.39583333, 0.27083333, 0.29166667, 0.29166667, 0.29166667,\n",
       "        0.1875    , 0.22916667, 0.22916667, 0.22916667, 0.27083333,\n",
       "        0.27083333, 0.39583333, 0.39583333, 0.27083333, 0.29166667,\n",
       "        0.29166667, 0.29166667, 0.20833333, 0.22916667, 0.22916667,\n",
       "        0.22916667, 0.27083333, 0.27083333, 0.39583333, 0.39583333]),\n",
       " 'split0_train_score': array([0.2962963 , 0.2962963 , 0.2962963 , 0.2962963 , 0.2962963 ,\n",
       "        0.2962963 , 0.2962963 , 0.2962963 , 0.2962963 , 0.2962963 ,\n",
       "        0.2962963 , 0.2962963 , 0.41798942, 0.41798942, 0.41798942,\n",
       "        0.41798942, 0.38624339, 0.38624339, 0.38624339, 0.38624339,\n",
       "        0.41798942, 0.41798942, 0.41798942, 0.41798942, 0.44973545,\n",
       "        0.40740741, 0.41798942, 0.41798942, 0.32275132, 0.38624339,\n",
       "        0.38624339, 0.38624339, 0.38095238, 0.38095238, 0.41798942,\n",
       "        0.41798942, 0.42857143, 0.40740741, 0.41798942, 0.41798942,\n",
       "        0.32275132, 0.38624339, 0.38624339, 0.38624339, 0.38095238,\n",
       "        0.38095238, 0.41798942, 0.41798942, 0.42857143, 0.40740741,\n",
       "        0.41798942, 0.41798942, 0.32275132, 0.38624339, 0.38624339,\n",
       "        0.38624339, 0.38095238, 0.38095238, 0.41798942, 0.41798942]),\n",
       " 'split1_test_score': array([0.20833333, 0.20833333, 0.20833333, 0.20833333, 0.20833333,\n",
       "        0.20833333, 0.20833333, 0.20833333, 0.20833333, 0.20833333,\n",
       "        0.20833333, 0.20833333, 0.29166667, 0.29166667, 0.29166667,\n",
       "        0.3125    , 0.20833333, 0.20833333, 0.20833333, 0.3125    ,\n",
       "        0.1875    , 0.1875    , 0.1875    , 0.3125    , 0.29166667,\n",
       "        0.29166667, 0.3125    , 0.33333333, 0.27083333, 0.20833333,\n",
       "        0.20833333, 0.3125    , 0.1875    , 0.1875    , 0.1875    ,\n",
       "        0.3125    , 0.29166667, 0.29166667, 0.3125    , 0.33333333,\n",
       "        0.27083333, 0.20833333, 0.20833333, 0.3125    , 0.1875    ,\n",
       "        0.1875    , 0.1875    , 0.3125    , 0.29166667, 0.29166667,\n",
       "        0.3125    , 0.33333333, 0.27083333, 0.20833333, 0.20833333,\n",
       "        0.3125    , 0.1875    , 0.1875    , 0.1875    , 0.3125    ]),\n",
       " 'split1_train_score': array([0.28571429, 0.28571429, 0.28571429, 0.28571429, 0.28571429,\n",
       "        0.28571429, 0.28571429, 0.28571429, 0.28571429, 0.28571429,\n",
       "        0.28571429, 0.28571429, 0.40740741, 0.40740741, 0.40740741,\n",
       "        0.43386243, 0.32275132, 0.32275132, 0.32275132, 0.41798942,\n",
       "        0.31216931, 0.31216931, 0.31216931, 0.41798942, 0.40740741,\n",
       "        0.40740741, 0.43915344, 0.46560847, 0.41269841, 0.32275132,\n",
       "        0.32275132, 0.41798942, 0.31216931, 0.31216931, 0.31216931,\n",
       "        0.41798942, 0.44444444, 0.42328042, 0.45502646, 0.48148148,\n",
       "        0.41269841, 0.32275132, 0.32275132, 0.41798942, 0.31216931,\n",
       "        0.31216931, 0.31216931, 0.41798942, 0.44444444, 0.42328042,\n",
       "        0.45502646, 0.48148148, 0.41269841, 0.32275132, 0.32275132,\n",
       "        0.41798942, 0.31216931, 0.31216931, 0.31216931, 0.41798942]),\n",
       " 'split2_test_score': array([0.38297872, 0.38297872, 0.38297872, 0.38297872, 0.38297872,\n",
       "        0.38297872, 0.38297872, 0.38297872, 0.38297872, 0.38297872,\n",
       "        0.38297872, 0.38297872, 0.46808511, 0.46808511, 0.46808511,\n",
       "        0.46808511, 0.42553191, 0.42553191, 0.42553191, 0.46808511,\n",
       "        0.42553191, 0.42553191, 0.42553191, 0.46808511, 0.46808511,\n",
       "        0.46808511, 0.46808511, 0.4893617 , 0.44680851, 0.42553191,\n",
       "        0.42553191, 0.4893617 , 0.42553191, 0.42553191, 0.42553191,\n",
       "        0.4893617 , 0.42553191, 0.46808511, 0.40425532, 0.46808511,\n",
       "        0.44680851, 0.46808511, 0.42553191, 0.4893617 , 0.42553191,\n",
       "        0.42553191, 0.42553191, 0.4893617 , 0.44680851, 0.4893617 ,\n",
       "        0.42553191, 0.4893617 , 0.44680851, 0.42553191, 0.42553191,\n",
       "        0.4893617 , 0.42553191, 0.42553191, 0.42553191, 0.4893617 ]),\n",
       " 'split2_train_score': array([0.26315789, 0.26315789, 0.26315789, 0.26315789, 0.26315789,\n",
       "        0.26315789, 0.26315789, 0.26315789, 0.26315789, 0.26315789,\n",
       "        0.26315789, 0.26315789, 0.35263158, 0.35263158, 0.35263158,\n",
       "        0.38421053, 0.28421053, 0.28421053, 0.28421053, 0.38421053,\n",
       "        0.32105263, 0.32105263, 0.32105263, 0.38421053, 0.38947368,\n",
       "        0.36315789, 0.35263158, 0.38421053, 0.35263158, 0.28421053,\n",
       "        0.28421053, 0.38421053, 0.32105263, 0.32105263, 0.32105263,\n",
       "        0.38421053, 0.36842105, 0.36315789, 0.26842105, 0.38421053,\n",
       "        0.35263158, 0.31578947, 0.28421053, 0.38421053, 0.32105263,\n",
       "        0.32105263, 0.32105263, 0.38421053, 0.41052632, 0.40526316,\n",
       "        0.28421053, 0.38421053, 0.35263158, 0.28421053, 0.28421053,\n",
       "        0.38421053, 0.32105263, 0.32105263, 0.32105263, 0.38421053]),\n",
       " 'split3_test_score': array([0.08510638, 0.08510638, 0.08510638, 0.08510638, 0.08510638,\n",
       "        0.08510638, 0.08510638, 0.08510638, 0.08510638, 0.08510638,\n",
       "        0.08510638, 0.08510638, 0.19148936, 0.19148936, 0.19148936,\n",
       "        0.19148936, 0.17021277, 0.17021277, 0.21276596, 0.21276596,\n",
       "        0.21276596, 0.21276596, 0.21276596, 0.21276596, 0.19148936,\n",
       "        0.08510638, 0.19148936, 0.19148936, 0.23404255, 0.21276596,\n",
       "        0.21276596, 0.21276596, 0.21276596, 0.21276596, 0.21276596,\n",
       "        0.21276596, 0.21276596, 0.10638298, 0.19148936, 0.19148936,\n",
       "        0.23404255, 0.21276596, 0.21276596, 0.21276596, 0.21276596,\n",
       "        0.21276596, 0.21276596, 0.21276596, 0.21276596, 0.10638298,\n",
       "        0.19148936, 0.19148936, 0.23404255, 0.21276596, 0.21276596,\n",
       "        0.21276596, 0.21276596, 0.21276596, 0.21276596, 0.21276596]),\n",
       " 'split3_train_score': array([0.24210526, 0.24210526, 0.24210526, 0.24210526, 0.24210526,\n",
       "        0.24210526, 0.24210526, 0.24210526, 0.24210526, 0.24210526,\n",
       "        0.24210526, 0.24210526, 0.34210526, 0.34210526, 0.34210526,\n",
       "        0.34210526, 0.32631579, 0.32631579, 0.36315789, 0.36315789,\n",
       "        0.36315789, 0.36315789, 0.36315789, 0.36315789, 0.37894737,\n",
       "        0.25263158, 0.34210526, 0.34210526, 0.4       , 0.36315789,\n",
       "        0.36315789, 0.36315789, 0.36315789, 0.36315789, 0.36315789,\n",
       "        0.36315789, 0.4       , 0.27368421, 0.34210526, 0.34210526,\n",
       "        0.4       , 0.36315789, 0.36315789, 0.36315789, 0.36315789,\n",
       "        0.36315789, 0.36315789, 0.36315789, 0.41578947, 0.27368421,\n",
       "        0.34210526, 0.34210526, 0.4       , 0.36315789, 0.36315789,\n",
       "        0.36315789, 0.36315789, 0.36315789, 0.36315789, 0.36315789]),\n",
       " 'split4_test_score': array([0.29787234, 0.29787234, 0.29787234, 0.29787234, 0.29787234,\n",
       "        0.29787234, 0.29787234, 0.29787234, 0.29787234, 0.29787234,\n",
       "        0.29787234, 0.29787234, 0.34042553, 0.34042553, 0.34042553,\n",
       "        0.42553191, 0.34042553, 0.34042553, 0.34042553, 0.42553191,\n",
       "        0.34042553, 0.34042553, 0.34042553, 0.42553191, 0.31914894,\n",
       "        0.34042553, 0.34042553, 0.42553191, 0.38297872, 0.34042553,\n",
       "        0.34042553, 0.42553191, 0.34042553, 0.34042553, 0.34042553,\n",
       "        0.42553191, 0.31914894, 0.34042553, 0.34042553, 0.42553191,\n",
       "        0.38297872, 0.34042553, 0.34042553, 0.42553191, 0.34042553,\n",
       "        0.34042553, 0.34042553, 0.42553191, 0.27659574, 0.34042553,\n",
       "        0.34042553, 0.42553191, 0.38297872, 0.34042553, 0.34042553,\n",
       "        0.42553191, 0.34042553, 0.34042553, 0.34042553, 0.42553191]),\n",
       " 'split4_train_score': array([0.26315789, 0.26315789, 0.26315789, 0.26315789, 0.26315789,\n",
       "        0.26315789, 0.26315789, 0.26315789, 0.26315789, 0.26315789,\n",
       "        0.26315789, 0.26315789, 0.31578947, 0.31578947, 0.31578947,\n",
       "        0.39473684, 0.31578947, 0.31578947, 0.31578947, 0.39473684,\n",
       "        0.31578947, 0.31578947, 0.31578947, 0.39473684, 0.36842105,\n",
       "        0.37368421, 0.34736842, 0.42631579, 0.38421053, 0.34736842,\n",
       "        0.34736842, 0.42631579, 0.31578947, 0.31578947, 0.31578947,\n",
       "        0.39473684, 0.38947368, 0.37368421, 0.34736842, 0.42631579,\n",
       "        0.38421053, 0.34736842, 0.34736842, 0.42631579, 0.31578947,\n",
       "        0.31578947, 0.31578947, 0.39473684, 0.36842105, 0.37368421,\n",
       "        0.34736842, 0.42631579, 0.38421053, 0.34736842, 0.34736842,\n",
       "        0.42631579, 0.31578947, 0.31578947, 0.31578947, 0.39473684]),\n",
       " 'std_fit_time': array([6.24883192e-03, 9.88015748e-03, 1.71661377e-06, 6.25014314e-03,\n",
       "        7.65323481e-03, 7.65387682e-03, 1.16912393e-02, 1.16911886e-02,\n",
       "        7.65303977e-03, 6.24992852e-03, 6.24802134e-03, 6.59421467e-03,\n",
       "        1.29135820e-02, 6.90787133e-03, 7.65426612e-03, 1.24997498e-02,\n",
       "        1.71149806e-02, 2.49971152e-02, 2.42032527e-02, 7.65319558e-03,\n",
       "        7.65531733e-03, 6.24976167e-03, 8.12024420e-07, 7.65461656e-03,\n",
       "        6.24914230e-03, 7.65173587e-03, 6.25257518e-03, 2.67028809e-06,\n",
       "        7.65344858e-03, 8.86968386e-07, 9.88023294e-03, 6.25028617e-03,\n",
       "        1.16910863e-02, 7.65434417e-03, 7.65420803e-03, 6.24966653e-03,\n",
       "        9.88158997e-03, 1.16913667e-02, 6.24790209e-03, 9.88181638e-03,\n",
       "        6.25038155e-03, 1.13443158e-06, 1.65456310e-06, 6.25085846e-03,\n",
       "        6.25026232e-03, 7.65344885e-03, 2.90283799e-06, 6.24940421e-03,\n",
       "        9.22159176e-07, 7.65418831e-03, 1.66961111e-06, 7.65362381e-03,\n",
       "        7.65379908e-03, 7.65311768e-03, 6.24847431e-03, 7.65483069e-03,\n",
       "        6.24988096e-03, 1.40160927e-06, 7.65444135e-03, 6.24959470e-03]),\n",
       " 'std_score_time': array([0.00765279, 0.00765425, 0.00624948, 0.00765442, 0.        ,\n",
       "        0.00765395, 0.0076546 , 0.00765302, 0.00624914, 0.00765372,\n",
       "        0.00624895, 0.01603367, 0.00236326, 0.00279827, 0.00765477,\n",
       "        0.00765419, 0.00765388, 0.00625153, 0.01249934, 0.        ,\n",
       "        0.0062494 , 0.        , 0.00624809, 0.00765536, 0.        ,\n",
       "        0.00765255, 0.00765489, 0.00625143, 0.00765395, 0.0076539 ,\n",
       "        0.00625   , 0.00765436, 0.00624943, 0.00765415, 0.00625   ,\n",
       "        0.00624914, 0.00624981, 0.00624914, 0.        , 0.00765454,\n",
       "        0.        , 0.00625038, 0.00624838, 0.        , 0.00765431,\n",
       "        0.00765495, 0.        , 0.00765413, 0.00624962, 0.00765337,\n",
       "        0.00624962, 0.        , 0.0076539 , 0.00624971, 0.00624866,\n",
       "        0.00625057, 0.00765442, 0.00624876, 0.00765425, 0.00624981]),\n",
       " 'std_test_score': array([0.10505375, 0.10505375, 0.10505375, 0.10505375, 0.10505375,\n",
       "        0.10505375, 0.10505375, 0.10505375, 0.10505375, 0.10505375,\n",
       "        0.10505375, 0.10505375, 0.08990149, 0.08990149, 0.08990149,\n",
       "        0.09883953, 0.09430324, 0.09430324, 0.08604499, 0.10238214,\n",
       "        0.09599201, 0.09599201, 0.09599201, 0.09072117, 0.08917682,\n",
       "        0.12336833, 0.08912569, 0.10379173, 0.09612211, 0.08604499,\n",
       "        0.08604499, 0.10831919, 0.08685256, 0.08685256, 0.09599201,\n",
       "        0.09590404, 0.07010747, 0.11620038, 0.06953882, 0.09811936,\n",
       "        0.09612211, 0.10057522, 0.08604499, 0.10831919, 0.08685256,\n",
       "        0.08685256, 0.09599201, 0.09590404, 0.07826885, 0.12250913,\n",
       "        0.07567496, 0.10379173, 0.09129329, 0.08604499, 0.08604499,\n",
       "        0.10831919, 0.08685256, 0.08685256, 0.09599201, 0.09590404]),\n",
       " 'std_train_score': array([0.01902704, 0.01902704, 0.01902704, 0.01902704, 0.01902704,\n",
       "        0.01902704, 0.01902704, 0.01902704, 0.01902704, 0.01902704,\n",
       "        0.01902704, 0.01902704, 0.03919496, 0.03919496, 0.03919496,\n",
       "        0.03147144, 0.03312067, 0.03312067, 0.03609924, 0.01772733,\n",
       "        0.04038917, 0.04038917, 0.04038917, 0.02090706, 0.02853943,\n",
       "        0.0569499 , 0.04047734, 0.04161539, 0.03274082, 0.03503207,\n",
       "        0.03503207, 0.02330022, 0.02801294, 0.02801294, 0.04038917,\n",
       "        0.02090706, 0.02723445, 0.05207648, 0.06491254, 0.04628941,\n",
       "        0.03274082, 0.02593582, 0.03503207, 0.02330022, 0.02801294,\n",
       "        0.02801294, 0.04038917, 0.02090706, 0.02542003, 0.05394419,\n",
       "        0.06029999, 0.04628941, 0.03274082, 0.03503207, 0.03503207,\n",
       "        0.02330022, 0.02801294, 0.02801294, 0.04038917, 0.02090706])}"
      ]
     },
     "execution_count": 17,
     "metadata": {},
     "output_type": "execute_result"
    }
   ],
   "source": [
    "grid_search_results.cv_results_"
   ]
  },
  {
   "cell_type": "code",
   "execution_count": 18,
   "metadata": {},
   "outputs": [
    {
     "data": {
      "text/plain": [
       "array([0.26152482, 0.26152482, 0.26152482, 0.26152482, 0.26152482,\n",
       "       0.26152482, 0.26152482, 0.26152482, 0.26152482, 0.26152482,\n",
       "       0.26152482, 0.26152482, 0.31666667, 0.31666667, 0.31666667,\n",
       "       0.33785461, 0.27473404, 0.27473404, 0.28324468, 0.32960993,\n",
       "       0.31241135, 0.31241135, 0.31241135, 0.36294326, 0.31241135,\n",
       "       0.29539007, 0.32083333, 0.3462766 , 0.30443262, 0.28324468,\n",
       "       0.28324468, 0.33386525, 0.28741135, 0.28741135, 0.31241135,\n",
       "       0.36719858, 0.30398936, 0.29964539, 0.30806738, 0.34202128,\n",
       "       0.30443262, 0.29175532, 0.28324468, 0.33386525, 0.28741135,\n",
       "       0.28741135, 0.31241135, 0.36719858, 0.29973404, 0.30390071,\n",
       "       0.3123227 , 0.3462766 , 0.30859929, 0.28324468, 0.28324468,\n",
       "       0.33386525, 0.28741135, 0.28741135, 0.31241135, 0.36719858])"
      ]
     },
     "execution_count": 18,
     "metadata": {},
     "output_type": "execute_result"
    }
   ],
   "source": [
    "grid_search_results.cv_results_['mean_test_score']"
   ]
  },
  {
   "cell_type": "code",
   "execution_count": 19,
   "metadata": {},
   "outputs": [
    {
     "data": {
      "image/png": "[encoded data removed]",
      "text/plain": [
       "<matplotlib.figure.Figure at 0x2070b260cc0>"
      ]
     },
     "metadata": {},
     "output_type": "display_data"
    }
   ],
   "source": [
    "plt.figure(figsize=(15, 4))\n",
    "pd.Series(grid_search_results.cv_results_['mean_test_score']).plot(marker=\"*\", c=\"k\")\n",
    "plt.xticks(range(60))\n",
    "plt.xlabel('Parameter Combination')\n",
    "plt.ylabel('Recall on Holdout')\n",
    "plt.title('GridSearchCV results')\n",
    "plt.show()"
   ]
  },
  {
   "cell_type": "code",
   "execution_count": 20,
   "metadata": {},
   "outputs": [
    {
     "data": {
      "text/plain": [
       "35"
      ]
     },
     "execution_count": 20,
     "metadata": {},
     "output_type": "execute_result"
    }
   ],
   "source": [
    "grid_search_results.cv_results_['mean_test_score'].argmax()"
   ]
  },
  {
   "cell_type": "code",
   "execution_count": 21,
   "metadata": {},
   "outputs": [
    {
     "data": {
      "text/plain": [
       "{'max_depth': 6, 'min_samples_leaf': 15, 'min_samples_split': 50}"
      ]
     },
     "execution_count": 21,
     "metadata": {},
     "output_type": "execute_result"
    }
   ],
   "source": [
    "grid_search_results.cv_results_['params'][35]"
   ]
  },
  {
   "cell_type": "markdown",
   "metadata": {},
   "source": [
    "### Random search\n",
    "\n",
    "---\n",
    "\n",
    "Random search differs from grid search in that we longer provide a discrete set of values to explore for each hyperparameter; rather, we provide a statistical distribution for each hyperparameter from which values may be randomly sampled.\n",
    "\n",
    "One of the main theoretical backings to motivate the use of random search in place of grid search is the fact that for most cases, hyperparameters are not equally important."
   ]
  },
  {
   "cell_type": "code",
   "execution_count": 22,
   "metadata": {},
   "outputs": [
    {
     "data": {
      "text/plain": [
       "<scipy.stats._distn_infrastructure.rv_frozen at 0x2070b260b38>"
      ]
     },
     "execution_count": 22,
     "metadata": {},
     "output_type": "execute_result"
    }
   ],
   "source": [
    "from scipy.stats import randint\n",
    "randint(0,10)"
   ]
  },
  {
   "cell_type": "code",
   "execution_count": 23,
   "metadata": {},
   "outputs": [
    {
     "name": "stdout",
     "output_type": "stream",
     "text": [
      "Fitting 5 folds for each of 50 candidates, totalling 250 fits\n"
     ]
    },
    {
     "name": "stderr",
     "output_type": "stream",
     "text": [
      "[Parallel(n_jobs=-1)]: Done  42 tasks      | elapsed:   13.2s\n",
      "[Parallel(n_jobs=-1)]: Done 250 out of 250 | elapsed:   15.8s finished\n"
     ]
    },
    {
     "name": "stdout",
     "output_type": "stream",
     "text": [
      "Wall time: 16.7 s\n"
     ]
    }
   ],
   "source": [
    "%%time\n",
    "from sklearn.model_selection import RandomizedSearchCV\n",
    "\n",
    "param_distributions = {\n",
    "             'max_depth': randint(2,11), \\\n",
    "             'min_samples_split': randint(20,40), \\\n",
    "             'min_samples_leaf': randint(5,19)\n",
    "            }\n",
    "\n",
    "random_search_results = RandomizedSearchCV(estimator=clf, param_distributions=param_distributions, cv=cv, \\\n",
    "                                           scoring='recall', n_iter=50, iid=False, \\\n",
    "                                           refit=True, n_jobs=-1, verbose=1, random_state=123)\n",
    "\n",
    "random_search_results.fit(X_train, y_train)"
   ]
  },
  {
   "cell_type": "code",
   "execution_count": 24,
   "metadata": {},
   "outputs": [
    {
     "data": {
      "text/plain": [
       "DecisionTreeClassifier(class_weight=None, criterion='gini', max_depth=3,\n",
       "            max_features=None, max_leaf_nodes=None,\n",
       "            min_impurity_decrease=0.0, min_impurity_split=None,\n",
       "            min_samples_leaf=14, min_samples_split=20,\n",
       "            min_weight_fraction_leaf=0.0, presort=False, random_state=0,\n",
       "            splitter='best')"
      ]
     },
     "execution_count": 24,
     "metadata": {},
     "output_type": "execute_result"
    }
   ],
   "source": [
    "random_search_results.best_estimator_"
   ]
  },
  {
   "cell_type": "code",
   "execution_count": 25,
   "metadata": {},
   "outputs": [
    {
     "data": {
      "text/plain": [
       "{'max_depth': 3, 'min_samples_leaf': 14, 'min_samples_split': 20}"
      ]
     },
     "execution_count": 25,
     "metadata": {},
     "output_type": "execute_result"
    }
   ],
   "source": [
    "random_search_results.best_params_"
   ]
  },
  {
   "cell_type": "code",
   "execution_count": 26,
   "metadata": {},
   "outputs": [
    {
     "data": {
      "text/plain": [
       "0.3671985815602837"
      ]
     },
     "execution_count": 26,
     "metadata": {},
     "output_type": "execute_result"
    }
   ],
   "source": [
    "random_search_results.best_score_"
   ]
  },
  {
   "cell_type": "code",
   "execution_count": 27,
   "metadata": {},
   "outputs": [
    {
     "data": {
      "text/plain": [
       "array([[0.99738861, 0.00261139],\n",
       "       [0.99738861, 0.00261139],\n",
       "       [0.99738861, 0.00261139],\n",
       "       ...,\n",
       "       [0.99738861, 0.00261139],\n",
       "       [0.99738861, 0.00261139],\n",
       "       [0.9484375 , 0.0515625 ]])"
      ]
     },
     "execution_count": 27,
     "metadata": {},
     "output_type": "execute_result"
    }
   ],
   "source": [
    "random_search_results.predict_proba(X_test)"
   ]
  },
  {
   "cell_type": "code",
   "execution_count": 28,
   "metadata": {},
   "outputs": [],
   "source": [
    "import pickle\n",
    "pickle.dump(random_search_results, open('./export/best_model_from_random_search.pkl', 'wb'))"
   ]
  },
  {
   "cell_type": "code",
   "execution_count": 29,
   "metadata": {
    "collapsed": true
   },
   "outputs": [],
   "source": [
    "model_trained_earlier = pd.read_pickle('./export/best_model_from_random_search.pkl')"
   ]
  },
  {
   "cell_type": "code",
   "execution_count": 30,
   "metadata": {},
   "outputs": [
    {
     "data": {
      "text/plain": [
       "RandomizedSearchCV(cv=StratifiedKFold(n_splits=5, random_state=111, shuffle=False),\n",
       "          error_score='raise',\n",
       "          estimator=DecisionTreeClassifier(class_weight=None, criterion='gini', max_depth=3,\n",
       "            max_features=None, max_leaf_nodes=None,\n",
       "            min_impurity_decrease=0.0, min_impurity_split=None,\n",
       "            min_samples_leaf=5, min_samples_split=10,\n",
       "            min_weight_fraction_leaf=0.0, presort=False, random_state=0,\n",
       "            splitter='best'),\n",
       "          fit_params=None, iid=False, n_iter=50, n_jobs=-1,\n",
       "          param_distributions={'min_samples_leaf': <scipy.stats._distn_infrastructure.rv_frozen object at 0x000002070B353470>, 'min_samples_split': <scipy.stats._distn_infrastructure.rv_frozen object at 0x000002070B30CBA8>, 'max_depth': <scipy.stats._distn_infrastructure.rv_frozen object at 0x000002070B3071D0>},\n",
       "          pre_dispatch='2*n_jobs', random_state=123, refit=True,\n",
       "          return_train_score='warn', scoring='recall', verbose=1)"
      ]
     },
     "execution_count": 30,
     "metadata": {},
     "output_type": "execute_result"
    }
   ],
   "source": [
    "random_search_results  #== model_trained_earlier"
   ]
  },
  {
   "cell_type": "code",
   "execution_count": 31,
   "metadata": {},
   "outputs": [
    {
     "data": {
      "text/plain": [
       "RandomizedSearchCV(cv=StratifiedKFold(n_splits=5, random_state=111, shuffle=False),\n",
       "          error_score='raise',\n",
       "          estimator=DecisionTreeClassifier(class_weight=None, criterion='gini', max_depth=3,\n",
       "            max_features=None, max_leaf_nodes=None,\n",
       "            min_impurity_decrease=0.0, min_impurity_split=None,\n",
       "            min_samples_leaf=5, min_samples_split=10,\n",
       "            min_weight_fraction_leaf=0.0, presort=False, random_state=0,\n",
       "            splitter='best'),\n",
       "          fit_params=None, iid=False, n_iter=50, n_jobs=-1,\n",
       "          param_distributions={'min_samples_leaf': <scipy.stats._distn_infrastructure.rv_frozen object at 0x000002077B2BB400>, 'min_samples_split': <scipy.stats._distn_infrastructure.rv_frozen object at 0x000002070B21C160>, 'max_depth': <scipy.stats._distn_infrastructure.rv_frozen object at 0x000002070B21CC50>},\n",
       "          pre_dispatch='2*n_jobs', random_state=123, refit=True,\n",
       "          return_train_score='warn', scoring='recall', verbose=1)"
      ]
     },
     "execution_count": 31,
     "metadata": {},
     "output_type": "execute_result"
    }
   ],
   "source": [
    "model_trained_earlier"
   ]
  },
  {
   "cell_type": "markdown",
   "metadata": {},
   "source": [
    "### Bayesian optimization\n",
    "\n",
    "---\n",
    "\n",
    "The previous two methods performed individual experiments building models with various hyperparameter values and recording the model performance for each. Because each experiment was performed in isolation, it's very easy to parallelize this process. However, because each experiment was performed in isolation, we're not able to use the information from one experiment to improve the next experiment. Bayesian optimization belongs to a class of sequential model-based optimization (SMBO) algorithms that allow for one to use the results of our previous iteration to improve our sampling method of the next experiment.\n",
    "\n",
    "We'll initially define a model constructed with hyperparameters λ which, after training, is scored v according to some evaluation metric. Next, we use the previously evaluated hyperparameter values to compute a posterior expectation of the hyperparameter space. We can then choose the optimal hyperparameter values according to this posterior expectation as our next model candidate. We iteratively repeat this process until converging to an optimum."
   ]
  },
  {
   "cell_type": "code",
   "execution_count": 32,
   "metadata": {
    "collapsed": true
   },
   "outputs": [],
   "source": [
    "########################################### HYPEROPT ###################################################\n",
    "# http://hyperopt.github.io/hyperopt/\n",
    "########################################### OPTUNA ###################################################\n",
    "# https://optuna.org/"
   ]
  }
 ],
 "metadata": {
  "kernelspec": {
   "display_name": "Python 3",
   "language": "python",
   "name": "python3"
  },
  "language_info": {
   "codemirror_mode": {
    "name": "ipython",
    "version": 3
   },
   "file_extension": ".py",
   "mimetype": "text/x-python",
   "name": "python",
   "nbconvert_exporter": "python",
   "pygments_lexer": "ipython3",
   "version": "3.5.3"
  }
 },
 "nbformat": 4,
 "nbformat_minor": 2
}
