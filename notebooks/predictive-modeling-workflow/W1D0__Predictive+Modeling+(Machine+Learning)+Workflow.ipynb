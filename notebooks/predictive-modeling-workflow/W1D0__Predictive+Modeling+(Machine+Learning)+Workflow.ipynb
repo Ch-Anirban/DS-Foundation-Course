{
 "cells": [
  {
   "cell_type": "markdown",
   "metadata": {},
   "source": [
    "<center><img src=\"mlw.png\">"
   ]
  },
  {
   "cell_type": "markdown",
   "metadata": {},
   "source": [
    "## <center> Data Set Information\n",
    "\n",
    "> The data is related to posts' published during the year of 2014 on the Facebook's page of a renowned cosmetics brand.\n",
    "\n",
    "> It includes 7 features known prior to post publication and Lifetime Total Post "
   ]
  },
  {
   "cell_type": "markdown",
   "metadata": {},
   "source": [
    "## <center> Data Retrieval - Ain't Nobody Got Time for That\n",
    "\n",
    "---\n",
    "\n",
    "<center><img src=\"ERD.JPG\">"
   ]
  },
  {
   "cell_type": "code",
   "execution_count": 1,
   "metadata": {},
   "outputs": [],
   "source": [
    "import pandas as pd\n",
    "fb_post_sample_data = pd.read_csv(\"sample_Facebook.csv\", sep=\",\")"
   ]
  },
  {
   "cell_type": "code",
   "execution_count": 2,
   "metadata": {},
   "outputs": [
    {
     "data": {
      "text/html": [
       "<div>\n",
       "<style scoped>\n",
       "    .dataframe tbody tr th:only-of-type {\n",
       "        vertical-align: middle;\n",
       "    }\n",
       "\n",
       "    .dataframe tbody tr th {\n",
       "        vertical-align: top;\n",
       "    }\n",
       "\n",
       "    .dataframe thead th {\n",
       "        text-align: right;\n",
       "    }\n",
       "</style>\n",
       "<table border=\"1\" class=\"dataframe\">\n",
       "  <thead>\n",
       "    <tr style=\"text-align: right;\">\n",
       "      <th></th>\n",
       "      <th>Page total likes</th>\n",
       "      <th>Type</th>\n",
       "      <th>Category</th>\n",
       "      <th>Post Month</th>\n",
       "      <th>Post Weekday</th>\n",
       "      <th>Post Hour</th>\n",
       "      <th>Paid</th>\n",
       "      <th>Lifetime Post Total Impressions</th>\n",
       "    </tr>\n",
       "  </thead>\n",
       "  <tbody>\n",
       "    <tr>\n",
       "      <th>0</th>\n",
       "      <td>139441</td>\n",
       "      <td>Photo</td>\n",
       "      <td>2</td>\n",
       "      <td>12</td>\n",
       "      <td>4</td>\n",
       "      <td>3</td>\n",
       "      <td>0.0</td>\n",
       "      <td>5091</td>\n",
       "    </tr>\n",
       "    <tr>\n",
       "      <th>1</th>\n",
       "      <td>139441</td>\n",
       "      <td>Status</td>\n",
       "      <td>2</td>\n",
       "      <td>12</td>\n",
       "      <td>3</td>\n",
       "      <td>10</td>\n",
       "      <td>0.0</td>\n",
       "      <td>19057</td>\n",
       "    </tr>\n",
       "    <tr>\n",
       "      <th>2</th>\n",
       "      <td>139441</td>\n",
       "      <td>Photo</td>\n",
       "      <td>3</td>\n",
       "      <td>12</td>\n",
       "      <td>3</td>\n",
       "      <td>3</td>\n",
       "      <td>0.0</td>\n",
       "      <td>4373</td>\n",
       "    </tr>\n",
       "    <tr>\n",
       "      <th>3</th>\n",
       "      <td>139441</td>\n",
       "      <td>Photo</td>\n",
       "      <td>2</td>\n",
       "      <td>12</td>\n",
       "      <td>2</td>\n",
       "      <td>10</td>\n",
       "      <td>1.0</td>\n",
       "      <td>87991</td>\n",
       "    </tr>\n",
       "    <tr>\n",
       "      <th>4</th>\n",
       "      <td>139441</td>\n",
       "      <td>Photo</td>\n",
       "      <td>2</td>\n",
       "      <td>12</td>\n",
       "      <td>2</td>\n",
       "      <td>3</td>\n",
       "      <td>0.0</td>\n",
       "      <td>13594</td>\n",
       "    </tr>\n",
       "  </tbody>\n",
       "</table>\n",
       "</div>"
      ],
      "text/plain": [
       "   Page total likes    Type  Category  Post Month  Post Weekday  Post Hour  \\\n",
       "0            139441   Photo         2          12             4          3   \n",
       "1            139441  Status         2          12             3         10   \n",
       "2            139441   Photo         3          12             3          3   \n",
       "3            139441   Photo         2          12             2         10   \n",
       "4            139441   Photo         2          12             2          3   \n",
       "\n",
       "   Paid  Lifetime Post Total Impressions  \n",
       "0   0.0                             5091  \n",
       "1   0.0                            19057  \n",
       "2   0.0                             4373  \n",
       "3   1.0                            87991  \n",
       "4   0.0                            13594  "
      ]
     },
     "execution_count": 2,
     "metadata": {},
     "output_type": "execute_result"
    }
   ],
   "source": [
    "# ASSUMPTION: ANONYMISED - POST_ID REMOVED\n",
    "fb_post_sample_data.head()"
   ]
  },
  {
   "cell_type": "code",
   "execution_count": 3,
   "metadata": {},
   "outputs": [
    {
     "data": {
      "text/plain": [
       "(500, 8)"
      ]
     },
     "execution_count": 3,
     "metadata": {},
     "output_type": "execute_result"
    }
   ],
   "source": [
    "fb_post_sample_data.shape"
   ]
  },
  {
   "cell_type": "markdown",
   "metadata": {},
   "source": [
    "## Cleansing"
   ]
  },
  {
   "cell_type": "code",
   "execution_count": 4,
   "metadata": {},
   "outputs": [
    {
     "data": {
      "text/plain": [
       "0"
      ]
     },
     "execution_count": 4,
     "metadata": {},
     "output_type": "execute_result"
    }
   ],
   "source": [
    "# NO DUPLICATES\n",
    "fb_post_sample_data.duplicated().sum()"
   ]
  },
  {
   "cell_type": "code",
   "execution_count": 5,
   "metadata": {},
   "outputs": [
    {
     "data": {
      "text/plain": [
       "Page total likes                   0\n",
       "Type                               0\n",
       "Category                           0\n",
       "Post Month                         0\n",
       "Post Weekday                       0\n",
       "Post Hour                          0\n",
       "Paid                               1\n",
       "Lifetime Post Total Impressions    0\n",
       "dtype: int64"
      ]
     },
     "execution_count": 5,
     "metadata": {},
     "output_type": "execute_result"
    }
   ],
   "source": [
    "# MISSING\n",
    "fb_post_sample_data.isna().sum()"
   ]
  },
  {
   "cell_type": "code",
   "execution_count": 6,
   "metadata": {
    "collapsed": true
   },
   "outputs": [],
   "source": [
    "# MISSING VALUE TREATMENT\n",
    "fb_post_sample_data = fb_post_sample_data.fillna(0)"
   ]
  },
  {
   "cell_type": "markdown",
   "metadata": {},
   "source": [
    "## Most Basic EDA for a quick start"
   ]
  },
  {
   "cell_type": "markdown",
   "metadata": {},
   "source": [
    "<center><img src=\"IDEP.jpg\">"
   ]
  },
  {
   "cell_type": "code",
   "execution_count": 39,
   "metadata": {},
   "outputs": [
    {
     "data": {
      "text/plain": [
       "count    5.000000e+02\n",
       "mean     2.958595e+04\n",
       "std      7.680325e+04\n",
       "min      5.700000e+02\n",
       "25%      5.694750e+03\n",
       "50%      9.051000e+03\n",
       "75%      2.208550e+04\n",
       "max      1.110282e+06\n",
       "Name: Lifetime Post Total Impressions, dtype: float64"
      ]
     },
     "execution_count": 39,
     "metadata": {},
     "output_type": "execute_result"
    }
   ],
   "source": [
    "# The target\n",
    "fb_post_sample_data['Lifetime Post Total Impressions'].describe()"
   ]
  },
  {
   "cell_type": "code",
   "execution_count": 7,
   "metadata": {},
   "outputs": [
    {
     "data": {
      "text/plain": [
       "Photo     426\n",
       "Status     45\n",
       "Link       22\n",
       "Video       7\n",
       "Name: Type, dtype: int64"
      ]
     },
     "execution_count": 7,
     "metadata": {},
     "output_type": "execute_result"
    }
   ],
   "source": [
    "# Type of Post\n",
    "fb_post_sample_data['Type'].value_counts()"
   ]
  },
  {
   "cell_type": "code",
   "execution_count": 8,
   "metadata": {},
   "outputs": [
    {
     "data": {
      "text/plain": [
       "1    215\n",
       "3    155\n",
       "2    130\n",
       "Name: Category, dtype: int64"
      ]
     },
     "execution_count": 8,
     "metadata": {},
     "output_type": "execute_result"
    }
   ],
   "source": [
    "# ACTION/PRODUCT/INSPIRATION\n",
    "fb_post_sample_data['Category'].value_counts()"
   ]
  },
  {
   "cell_type": "code",
   "execution_count": 9,
   "metadata": {},
   "outputs": [
    {
     "data": {
      "text/plain": [
       "0.0    361\n",
       "1.0    139\n",
       "Name: Paid, dtype: int64"
      ]
     },
     "execution_count": 9,
     "metadata": {},
     "output_type": "execute_result"
    }
   ],
   "source": [
    "# Paid posts\n",
    "fb_post_sample_data['Paid'].value_counts()"
   ]
  },
  {
   "cell_type": "code",
   "execution_count": 10,
   "metadata": {},
   "outputs": [
    {
     "data": {
      "text/html": [
       "<div>\n",
       "<style scoped>\n",
       "    .dataframe tbody tr th:only-of-type {\n",
       "        vertical-align: middle;\n",
       "    }\n",
       "\n",
       "    .dataframe tbody tr th {\n",
       "        vertical-align: top;\n",
       "    }\n",
       "\n",
       "    .dataframe thead th {\n",
       "        text-align: right;\n",
       "    }\n",
       "</style>\n",
       "<table border=\"1\" class=\"dataframe\">\n",
       "  <thead>\n",
       "    <tr style=\"text-align: right;\">\n",
       "      <th>Paid</th>\n",
       "      <th>0.0</th>\n",
       "      <th>1.0</th>\n",
       "    </tr>\n",
       "    <tr>\n",
       "      <th>Type</th>\n",
       "      <th></th>\n",
       "      <th></th>\n",
       "    </tr>\n",
       "  </thead>\n",
       "  <tbody>\n",
       "    <tr>\n",
       "      <th>Link</th>\n",
       "      <td>16</td>\n",
       "      <td>6</td>\n",
       "    </tr>\n",
       "    <tr>\n",
       "      <th>Photo</th>\n",
       "      <td>307</td>\n",
       "      <td>119</td>\n",
       "    </tr>\n",
       "    <tr>\n",
       "      <th>Status</th>\n",
       "      <td>35</td>\n",
       "      <td>10</td>\n",
       "    </tr>\n",
       "    <tr>\n",
       "      <th>Video</th>\n",
       "      <td>3</td>\n",
       "      <td>4</td>\n",
       "    </tr>\n",
       "  </tbody>\n",
       "</table>\n",
       "</div>"
      ],
      "text/plain": [
       "Paid    0.0  1.0\n",
       "Type            \n",
       "Link     16    6\n",
       "Photo   307  119\n",
       "Status   35   10\n",
       "Video     3    4"
      ]
     },
     "execution_count": 10,
     "metadata": {},
     "output_type": "execute_result"
    }
   ],
   "source": [
    "# Are paid posts for certain types?\n",
    "pd.crosstab(fb_post_sample_data['Type'], fb_post_sample_data['Paid'])"
   ]
  },
  {
   "cell_type": "code",
   "execution_count": 11,
   "metadata": {},
   "outputs": [
    {
     "data": {
      "text/html": [
       "<div>\n",
       "<style scoped>\n",
       "    .dataframe tbody tr th:only-of-type {\n",
       "        vertical-align: middle;\n",
       "    }\n",
       "\n",
       "    .dataframe tbody tr th {\n",
       "        vertical-align: top;\n",
       "    }\n",
       "\n",
       "    .dataframe thead th {\n",
       "        text-align: right;\n",
       "    }\n",
       "</style>\n",
       "<table border=\"1\" class=\"dataframe\">\n",
       "  <thead>\n",
       "    <tr style=\"text-align: right;\">\n",
       "      <th>Paid</th>\n",
       "      <th>0.0</th>\n",
       "      <th>1.0</th>\n",
       "    </tr>\n",
       "    <tr>\n",
       "      <th>Category</th>\n",
       "      <th></th>\n",
       "      <th></th>\n",
       "    </tr>\n",
       "  </thead>\n",
       "  <tbody>\n",
       "    <tr>\n",
       "      <th>1</th>\n",
       "      <td>151</td>\n",
       "      <td>64</td>\n",
       "    </tr>\n",
       "    <tr>\n",
       "      <th>2</th>\n",
       "      <td>98</td>\n",
       "      <td>32</td>\n",
       "    </tr>\n",
       "    <tr>\n",
       "      <th>3</th>\n",
       "      <td>112</td>\n",
       "      <td>43</td>\n",
       "    </tr>\n",
       "  </tbody>\n",
       "</table>\n",
       "</div>"
      ],
      "text/plain": [
       "Paid      0.0  1.0\n",
       "Category          \n",
       "1         151   64\n",
       "2          98   32\n",
       "3         112   43"
      ]
     },
     "execution_count": 11,
     "metadata": {},
     "output_type": "execute_result"
    }
   ],
   "source": [
    "# Are paid posts for certain categories?\n",
    "pd.crosstab(fb_post_sample_data['Category'], fb_post_sample_data['Paid'])"
   ]
  },
  {
   "cell_type": "code",
   "execution_count": 12,
   "metadata": {},
   "outputs": [
    {
     "data": {
      "text/plain": [
       "1     25\n",
       "2     26\n",
       "3     36\n",
       "4     50\n",
       "5     37\n",
       "6     49\n",
       "7     52\n",
       "8     34\n",
       "9     36\n",
       "10    60\n",
       "11    45\n",
       "12    50\n",
       "Name: Post Month, dtype: int64"
      ]
     },
     "execution_count": 12,
     "metadata": {},
     "output_type": "execute_result"
    }
   ],
   "source": [
    "# Monthly coverage\n",
    "fb_post_sample_data['Post Month'].value_counts().sort_index()"
   ]
  },
  {
   "cell_type": "code",
   "execution_count": 13,
   "metadata": {},
   "outputs": [
    {
     "data": {
      "text/plain": [
       "Post Weekday\n",
       "1     7780.5\n",
       "2     8632.0\n",
       "3    10026.0\n",
       "4    12379.5\n",
       "5     9463.0\n",
       "6     9193.0\n",
       "7     7423.5\n",
       "Name: Lifetime Post Total Impressions, dtype: float64"
      ]
     },
     "execution_count": 13,
     "metadata": {},
     "output_type": "execute_result"
    }
   ],
   "source": [
    "# Posting on which day of the week brought most lifetime impressions? - MAKES NO SENSE NOW BUT CAN WE MAKE SENSE OUT IT??\n",
    "fb_post_sample_data.groupby('Post Weekday')['Lifetime Post Total Impressions'].median()"
   ]
  },
  {
   "cell_type": "code",
   "execution_count": 14,
   "metadata": {
    "scrolled": false
   },
   "outputs": [
    {
     "data": {
      "text/plain": [
       "Post Hour\n",
       "1      6702.0\n",
       "2      9390.0\n",
       "3      9100.0\n",
       "4     10115.0\n",
       "5      9411.0\n",
       "6     10358.5\n",
       "7      9835.0\n",
       "8      5708.5\n",
       "9      6736.5\n",
       "10    11003.0\n",
       "11     7275.0\n",
       "12    10508.0\n",
       "13    10317.0\n",
       "14     7165.0\n",
       "15     9788.5\n",
       "16     9238.0\n",
       "17    22468.0\n",
       "18     5900.0\n",
       "19      570.0\n",
       "20     9970.0\n",
       "22    24112.0\n",
       "23     5058.0\n",
       "Name: Lifetime Post Total Impressions, dtype: float64"
      ]
     },
     "execution_count": 14,
     "metadata": {},
     "output_type": "execute_result"
    }
   ],
   "source": [
    "# Posting at which time of the day brought most lifetime impressions? - MAKES NO SENSE NOW BUT CAN WE MAKE SENSE OUT IT??\n",
    "fb_post_sample_data.groupby('Post Hour')['Lifetime Post Total Impressions'].median()"
   ]
  },
  {
   "cell_type": "code",
   "execution_count": 15,
   "metadata": {},
   "outputs": [
    {
     "data": {
      "image/png": "[encoded data removed]",
      "text/plain": [
       "<matplotlib.figure.Figure at 0x28c78e29c50>"
      ]
     },
     "metadata": {},
     "output_type": "display_data"
    }
   ],
   "source": [
    "import matplotlib.pyplot as plt\n",
    "fb_post_sample_data.groupby('Post Month')['Page total likes'].mean().plot(kind='line', linewidth=3, alpha=0.5, marker='v')\n",
    "plt.grid()\n",
    "plt.show()"
   ]
  },
  {
   "cell_type": "markdown",
   "metadata": {},
   "source": [
    "### So, what do we have ready with us for modeling?\n",
    "\n",
    "---\n",
    "\n",
    "> The target variable **LTPI**\n",
    "\n",
    "> The independent feature **Category**\n",
    "\n",
    "> The independent feature **Paid**\n",
    "\n",
    "> The independent feature **Page total likes**"
   ]
  },
  {
   "cell_type": "markdown",
   "metadata": {},
   "source": [
    "<center><img src=\"DEV.jpg\">"
   ]
  },
  {
   "cell_type": "code",
   "execution_count": 16,
   "metadata": {},
   "outputs": [
    {
     "name": "stdout",
     "output_type": "stream",
     "text": [
      "405 samples in DEV\n",
      "95 samples in OOT\n"
     ]
    }
   ],
   "source": [
    "from copy import deepcopy\n",
    "DEV = deepcopy(fb_post_sample_data[fb_post_sample_data['Post Month'] < 11])\n",
    "print('{} samples in DEV'.format(DEV.shape[0]))\n",
    "OOT = deepcopy(fb_post_sample_data[fb_post_sample_data['Post Month'] > 10])\n",
    "print('{} samples in OOT'.format(OOT.shape[0]))"
   ]
  },
  {
   "cell_type": "code",
   "execution_count": 17,
   "metadata": {},
   "outputs": [
    {
     "data": {
      "text/plain": [
       "<function sklearn.model_selection._split.train_test_split>"
      ]
     },
     "execution_count": 17,
     "metadata": {},
     "output_type": "execute_result"
    }
   ],
   "source": [
    "from sklearn.model_selection import train_test_split\n",
    "train_test_split"
   ]
  },
  {
   "cell_type": "code",
   "execution_count": 18,
   "metadata": {},
   "outputs": [],
   "source": [
    "target_variable = 'Lifetime Post Total Impressions'\n",
    "features_to_train_with = ['Category', 'Paid', 'Page total likes']\n",
    "x_train, x_test, Y_train, Y_test = train_test_split(DEV[features_to_train_with], DEV[target_variable], \\\n",
    "                                                    stratify=DEV['Type'], test_size=0.25, random_state=111)"
   ]
  },
  {
   "cell_type": "code",
   "execution_count": 19,
   "metadata": {},
   "outputs": [
    {
     "name": "stdout",
     "output_type": "stream",
     "text": [
      "303 samples in training\n",
      "102 samples in test\n"
     ]
    }
   ],
   "source": [
    "print('{} samples in training'.format(x_train.shape[0]))\n",
    "print('{} samples in test'.format(x_test.shape[0]))"
   ]
  },
  {
   "cell_type": "markdown",
   "metadata": {},
   "source": [
    "## <center> Analogy"
   ]
  },
  {
   "cell_type": "markdown",
   "metadata": {},
   "source": [
    " <center><img src=\"bus.jpg\">"
   ]
  },
  {
   "cell_type": "markdown",
   "metadata": {},
   "source": [
    "## Evaluation Yardsticks\n",
    "\n",
    "---\n",
    "\n",
    "> * Ease of booking\n",
    "\n",
    "> * Availability of seats\n",
    "\n",
    "> * Price of the tickets\n",
    "\n",
    "> * Journey Time & Route\n",
    "\n",
    "> * Existing ratings of the bus operators\n",
    "\n",
    "> * Custom requirements\n",
    "\n",
    "\n",
    "> And many more ....."
   ]
  },
  {
   "cell_type": "markdown",
   "metadata": {},
   "source": [
    "---\n",
    "\n",
    "### Just like a bus, algorithms can be used without knowing for a fact what happens under the hood. However, knowing which algorithm(s) are suitable for the problem is a must. Otherwise it is going to be as lunatic as taking a bus to the moon \n",
    "\n",
    "---"
   ]
  },
  {
   "cell_type": "code",
   "execution_count": 20,
   "metadata": {
    "collapsed": true
   },
   "outputs": [],
   "source": [
    "from sklearn.linear_model import LinearRegression\n",
    "from sklearn.tree import DecisionTreeRegressor\n",
    "from sklearn.ensemble import RandomForestRegressor\n",
    "\n",
    "linear_regression_model = LinearRegression()\n",
    "decision_tree_model = DecisionTreeRegressor(random_state=0)\n",
    "random_forest_model = RandomForestRegressor(random_state=0)"
   ]
  },
  {
   "cell_type": "code",
   "execution_count": 21,
   "metadata": {
    "collapsed": true
   },
   "outputs": [],
   "source": [
    "# Our Yardstrick today\n",
    "from sklearn.metrics import mean_squared_error"
   ]
  },
  {
   "cell_type": "markdown",
   "metadata": {},
   "source": [
    "## Algo 1"
   ]
  },
  {
   "cell_type": "code",
   "execution_count": 22,
   "metadata": {},
   "outputs": [
    {
     "data": {
      "text/plain": [
       "LinearRegression(copy_X=True, fit_intercept=True, n_jobs=1, normalize=False)"
      ]
     },
     "execution_count": 22,
     "metadata": {},
     "output_type": "execute_result"
    }
   ],
   "source": [
    "linear_regression_model.fit(x_train, Y_train)"
   ]
  },
  {
   "cell_type": "code",
   "execution_count": 23,
   "metadata": {},
   "outputs": [
    {
     "data": {
      "text/plain": [
       "array([49622.23118446, 48727.7762801 ,  6294.95981507, 23012.45774443,\n",
       "       26205.61150143, 24350.87955246, 15138.5465638 ,  9133.57308219,\n",
       "       26239.19239659, 15138.5465638 , 16840.0965665 , 40639.63102462,\n",
       "       47738.44725938, 13159.28526124, 11975.13452568, 54549.59705582,\n",
       "       35169.90991062, 23079.56083671, 20254.51284361, 28940.21838432,\n",
       "       51568.92628829, 22795.31270808, 12458.22594   , 47075.75457669,\n",
       "       20254.51284361, 25898.25439561, 30765.65726459,  6032.15343931,\n",
       "       35514.90669733, 25340.20857317, 52562.31409473, 27199.60256901,\n",
       "       40946.98813044, 63313.43422175, 25340.20857317, 20139.47792645,\n",
       "       57664.11183938, 17593.00131867, 53262.45463246,  6080.85886803,\n",
       "       37296.71363104, 21848.6009375 , 25486.28764442, 28549.78929893,\n",
       "       35169.90991062, 30765.65726459, 21036.33644408, 49169.20644268,\n",
       "       49622.23118446, 37359.79515249, 53262.45463246, 56214.11063877,\n",
       "       21196.65848026, 40980.5690256 , 40371.24381848, 58195.4013342 ,\n",
       "       35169.90991062, 53262.45463246, 21233.73211489, 44107.26016634,\n",
       "       18255.69400137, 45570.54833349,  5369.04932133, 15812.81234253,\n",
       "       31714.12012056, 27844.06793082, 40081.58520218, 21907.99789362,\n",
       "       56946.81737524, 35362.70223261,  7501.43387213, 11497.81576758,\n",
       "       61378.40812689, 34851.80257935, 24350.87955246, 36887.96131184,\n",
       "       18553.41149109, 26234.66347754, 56892.53111615,  5349.26274092,\n",
       "       66370.71456986, 34210.68477733, 52562.31409473, 22679.63731489,\n",
       "       51568.92628829, 48727.7762801 , 46466.42936958, 20822.23549703,\n",
       "        7813.96037303, 37496.10147983, 11497.81576758, 35938.03510927,\n",
       "       34995.88947262, 44711.5118913 , 44621.29982182,  5369.04932133,\n",
       "       20110.42595034, 44621.29982182, 41610.09224842, 22449.33843983,\n",
       "       26731.35738076, 13909.14592412, 63085.73078581, 15987.34012875,\n",
       "       45534.15238976, 21196.65848026, 20773.53006832, 15812.81234253,\n",
       "       41457.8877837 , 45836.90614675, 13909.14592412, 28337.99605222,\n",
       "       12458.22594   , 35938.03510927, 46362.93033356, 53833.63281047,\n",
       "       28337.99605222, 35169.90991062, 34851.80257935, 20636.17182966,\n",
       "       40541.84594679, 40639.63102462, 26397.38912698, 28224.07174441,\n",
       "       31004.84731494, 35169.90991062, 27291.84403135, 14411.00922242,\n",
       "       48727.7762801 , 38377.90989369, 35659.50093882, 47024.10097161,\n",
       "        7813.96037303,  8103.65620422,  8529.32135723, 57978.25629786,\n",
       "       42757.71391245,  9133.57308219, 60275.52901877, 26868.71561941,\n",
       "       49622.23118446, 39808.22042681, 27013.3098609 , 25898.25439561,\n",
       "       22679.63731489, 35043.5802049 , 28441.21678076, 27943.78648859,\n",
       "       57664.11183938, 37753.83437343, 20621.3256036 , 57272.53492975,\n",
       "       20139.47792645, 40371.24381848, 17593.00131867, 38377.90989369,\n",
       "       20139.47792645, 30792.77576075, 33602.97752779, 40980.5690256 ,\n",
       "       28849.91040192, 39411.8483425 , 37586.40946224, 35043.5802049 ,\n",
       "       15138.5465638 , 22754.72485082, 48344.3541568 , 20254.51284361,\n",
       "       33294.7881201 , 14411.00922242, 31264.6096014 , 35169.90991062,\n",
       "       52562.31409473, 11497.81576758, 53262.45463246, 29970.13526229,\n",
       "       27681.20915356, 35169.90991062, 35169.90991062, 20073.93409369,\n",
       "       25898.25439561, 61378.40812689, 38012.07461525,  5879.94897459,\n",
       "       44711.5118913 , 45989.01469856, 30554.18897154, 35169.90991062,\n",
       "       35514.90669733, 11497.81576758, 29365.88353733, 20822.23549703,\n",
       "        9133.57308219, 54822.96183119, 41457.8877837 , 16024.28063558,\n",
       "       39411.8483425 ,  8103.65620422, 11497.81576758,  9133.57308219,\n",
       "       24670.47171349, 20506.19477351, 45507.03389359, 35377.54845867,\n",
       "       10744.91101541, 46466.42936958, 22845.03283323, 23270.69798624,\n",
       "       35169.90991062, 30728.71675776, 40267.74478247,  7501.43387213,\n",
       "       25800.46931778, 19245.02302208, 43391.89918213, 31264.6096014 ,\n",
       "       48344.3541568 , 38616.32634021, 22754.72485082, 20780.12559513,\n",
       "       45507.03389359, 25486.28764442, 27626.92289448, 35169.90991062,\n",
       "       22182.98062656, 20428.53328161, 35169.90991062, 20780.12559513,\n",
       "       51568.92628829, 12458.22594   , 29152.38585143,  7938.26068589,\n",
       "       43631.87488818, 41138.76575599, 61378.40812689,  7938.26068589,\n",
       "       20090.63936992, 13978.7485426 , 29879.92319281, 50118.92508768,\n",
       "       22555.33700203, 60644.78260691, 20773.53006832, 36984.18713014,\n",
       "       40639.63102462, 41457.8877837 , 31004.84731494, 58086.82881603,\n",
       "       59357.64018355, 52562.31409473, 26716.51115469, 23270.69798624,\n",
       "       20073.93409369, 41940.97919801, 14411.00922242, 35777.71307309,\n",
       "       47024.10097161, 22555.33700203, 30728.71675776, 35169.90991062,\n",
       "       26239.19239659, 57001.10363432, 21036.33644408, 53119.2865227 ,\n",
       "       15138.5465638 , 53262.45463246,  5513.1362146 , 12550.46740234,\n",
       "       14411.00922242, 53262.45463246, 23874.9497112 , 19245.02302208,\n",
       "       18553.41149109, 53262.45463246, 53262.45463246, 47075.75457669,\n",
       "       35377.54845867, 55717.41673555, 22679.63731489, 36589.9775665 ,\n",
       "       54549.59705582, 35659.50093882, 48727.7762801 , 20139.47792645,\n",
       "       62933.43040816, 35043.5802049 , 57652.53874334, 12458.22594   ,\n",
       "       35043.5802049 , 26917.42104813, 31264.6096014 , 53262.45463246,\n",
       "       48727.7762801 ,  9929.09508449, 20139.47792645, 12390.14536616,\n",
       "       21805.47633916, 12550.46740234, 36589.9775665 , 13222.79970113,\n",
       "        8271.08111542, 29365.88353733, 61378.40812689])"
      ]
     },
     "execution_count": 23,
     "metadata": {},
     "output_type": "execute_result"
    }
   ],
   "source": [
    "linear_regression_predictions_train = linear_regression_model.predict(x_train)\n",
    "linear_regression_predictions_train"
   ]
  },
  {
   "cell_type": "code",
   "execution_count": 24,
   "metadata": {},
   "outputs": [
    {
     "data": {
      "text/plain": [
       "7177919607.402961"
      ]
     },
     "execution_count": 24,
     "metadata": {},
     "output_type": "execute_result"
    }
   ],
   "source": [
    "mean_squared_error(linear_regression_predictions_train, Y_train)"
   ]
  },
  {
   "cell_type": "code",
   "execution_count": 25,
   "metadata": {},
   "outputs": [
    {
     "data": {
      "text/plain": [
       "5974820481.023594"
      ]
     },
     "execution_count": 25,
     "metadata": {},
     "output_type": "execute_result"
    }
   ],
   "source": [
    "linear_regression_predictions_test = linear_regression_model.predict(x_test)\n",
    "mean_squared_error(linear_regression_predictions_test, Y_test)"
   ]
  },
  {
   "cell_type": "code",
   "execution_count": 26,
   "metadata": {},
   "outputs": [
    {
     "data": {
      "text/plain": [
       "1035483234.3285202"
      ]
     },
     "execution_count": 26,
     "metadata": {},
     "output_type": "execute_result"
    }
   ],
   "source": [
    "linear_regression_predictions_oot = linear_regression_model.predict(OOT[features_to_train_with])\n",
    "mean_squared_error(linear_regression_predictions_oot, OOT[target_variable])"
   ]
  },
  {
   "cell_type": "markdown",
   "metadata": {},
   "source": [
    "## Algo 2"
   ]
  },
  {
   "cell_type": "code",
   "execution_count": 27,
   "metadata": {},
   "outputs": [
    {
     "data": {
      "text/plain": [
       "DecisionTreeRegressor(criterion='mse', max_depth=None, max_features=None,\n",
       "           max_leaf_nodes=None, min_impurity_decrease=0.0,\n",
       "           min_impurity_split=None, min_samples_leaf=1,\n",
       "           min_samples_split=2, min_weight_fraction_leaf=0.0,\n",
       "           presort=False, random_state=0, splitter='best')"
      ]
     },
     "execution_count": 27,
     "metadata": {},
     "output_type": "execute_result"
    }
   ],
   "source": [
    "decision_tree_model.fit(x_train, Y_train)"
   ]
  },
  {
   "cell_type": "code",
   "execution_count": 28,
   "metadata": {},
   "outputs": [],
   "source": [
    "decision_tree_predictions_train = decision_tree_model.predict(x_train)"
   ]
  },
  {
   "cell_type": "code",
   "execution_count": 29,
   "metadata": {},
   "outputs": [
    {
     "data": {
      "text/plain": [
       "3705386679.510351"
      ]
     },
     "execution_count": 29,
     "metadata": {},
     "output_type": "execute_result"
    }
   ],
   "source": [
    "mean_squared_error(decision_tree_predictions_train, Y_train)"
   ]
  },
  {
   "cell_type": "code",
   "execution_count": 30,
   "metadata": {},
   "outputs": [
    {
     "data": {
      "text/plain": [
       "12518132474.228096"
      ]
     },
     "execution_count": 30,
     "metadata": {},
     "output_type": "execute_result"
    }
   ],
   "source": [
    "decision_tree_predictions_test = decision_tree_model.predict(x_test)\n",
    "mean_squared_error(decision_tree_predictions_test, Y_test)"
   ]
  },
  {
   "cell_type": "code",
   "execution_count": 31,
   "metadata": {},
   "outputs": [
    {
     "data": {
      "text/plain": [
       "2496527992.4"
      ]
     },
     "execution_count": 31,
     "metadata": {},
     "output_type": "execute_result"
    }
   ],
   "source": [
    "decision_tree_predictions_oot = decision_tree_model.predict(OOT[features_to_train_with])\n",
    "mean_squared_error(decision_tree_predictions_oot, OOT[target_variable])"
   ]
  },
  {
   "cell_type": "markdown",
   "metadata": {},
   "source": [
    "## Algo 3"
   ]
  },
  {
   "cell_type": "code",
   "execution_count": 32,
   "metadata": {},
   "outputs": [
    {
     "data": {
      "text/plain": [
       "RandomForestRegressor(bootstrap=True, criterion='mse', max_depth=None,\n",
       "           max_features='auto', max_leaf_nodes=None,\n",
       "           min_impurity_decrease=0.0, min_impurity_split=None,\n",
       "           min_samples_leaf=1, min_samples_split=2,\n",
       "           min_weight_fraction_leaf=0.0, n_estimators=10, n_jobs=1,\n",
       "           oob_score=False, random_state=0, verbose=0, warm_start=False)"
      ]
     },
     "execution_count": 32,
     "metadata": {},
     "output_type": "execute_result"
    }
   ],
   "source": [
    "random_forest_model.fit(x_train, Y_train)"
   ]
  },
  {
   "cell_type": "code",
   "execution_count": 33,
   "metadata": {},
   "outputs": [],
   "source": [
    "random_forest_predictions_train = random_forest_model.predict(x_train)"
   ]
  },
  {
   "cell_type": "code",
   "execution_count": 34,
   "metadata": {},
   "outputs": [
    {
     "data": {
      "text/plain": [
       "4895315110.6289425"
      ]
     },
     "execution_count": 34,
     "metadata": {},
     "output_type": "execute_result"
    }
   ],
   "source": [
    "mean_squared_error(random_forest_predictions_train, Y_train)"
   ]
  },
  {
   "cell_type": "code",
   "execution_count": 35,
   "metadata": {},
   "outputs": [
    {
     "data": {
      "text/plain": [
       "6444909455.6366825"
      ]
     },
     "execution_count": 35,
     "metadata": {},
     "output_type": "execute_result"
    }
   ],
   "source": [
    "random_forest_predictions_test = random_forest_model.predict(x_test)\n",
    "mean_squared_error(random_forest_predictions_test, Y_test)"
   ]
  },
  {
   "cell_type": "code",
   "execution_count": 36,
   "metadata": {},
   "outputs": [
    {
     "data": {
      "text/plain": [
       "1509601124.3560467"
      ]
     },
     "execution_count": 36,
     "metadata": {},
     "output_type": "execute_result"
    }
   ],
   "source": [
    "random_forest_predictions_oot = random_forest_model.predict(OOT[features_to_train_with])\n",
    "mean_squared_error(random_forest_predictions_oot, OOT[target_variable])"
   ]
  },
  {
   "cell_type": "code",
   "execution_count": 37,
   "metadata": {},
   "outputs": [
    {
     "data": {
      "text/html": [
       "<div>\n",
       "<style scoped>\n",
       "    .dataframe tbody tr th:only-of-type {\n",
       "        vertical-align: middle;\n",
       "    }\n",
       "\n",
       "    .dataframe tbody tr th {\n",
       "        vertical-align: top;\n",
       "    }\n",
       "\n",
       "    .dataframe thead th {\n",
       "        text-align: right;\n",
       "    }\n",
       "</style>\n",
       "<table border=\"1\" class=\"dataframe\">\n",
       "  <thead>\n",
       "    <tr style=\"text-align: right;\">\n",
       "      <th></th>\n",
       "      <th>OOT</th>\n",
       "      <th>TEST</th>\n",
       "      <th>TRAIN</th>\n",
       "    </tr>\n",
       "  </thead>\n",
       "  <tbody>\n",
       "    <tr>\n",
       "      <th>Linear Regression</th>\n",
       "      <td>1.035483e+09</td>\n",
       "      <td>5.974820e+09</td>\n",
       "      <td>7.177920e+09</td>\n",
       "    </tr>\n",
       "    <tr>\n",
       "      <th>Decision Tree</th>\n",
       "      <td>2.496528e+09</td>\n",
       "      <td>1.251813e+10</td>\n",
       "      <td>3.705387e+09</td>\n",
       "    </tr>\n",
       "    <tr>\n",
       "      <th>Random Forest</th>\n",
       "      <td>1.509601e+09</td>\n",
       "      <td>6.444909e+09</td>\n",
       "      <td>4.895315e+09</td>\n",
       "    </tr>\n",
       "  </tbody>\n",
       "</table>\n",
       "</div>"
      ],
      "text/plain": [
       "                            OOT          TEST         TRAIN\n",
       "Linear Regression  1.035483e+09  5.974820e+09  7.177920e+09\n",
       "Decision Tree      2.496528e+09  1.251813e+10  3.705387e+09\n",
       "Random Forest      1.509601e+09  6.444909e+09  4.895315e+09"
      ]
     },
     "execution_count": 37,
     "metadata": {},
     "output_type": "execute_result"
    }
   ],
   "source": [
    "logger = pd.DataFrame({'TRAIN':[7177919607.402961, 3705386679.510351, 4895315110.6289425],\\\n",
    "              'TEST':[5974820481.023594, 12518132474.228096, 6444909455.6366825],\\\n",
    "              'OOT':[1035483234.3285202, 2496527992.4, 1509601124.3560467]},\\\n",
    "             index=['Linear Regression', 'Decision Tree', 'Random Forest'])\n",
    "logger"
   ]
  },
  {
   "cell_type": "code",
   "execution_count": 38,
   "metadata": {},
   "outputs": [
    {
     "data": {
      "image/png": "[encoded data removed]",
      "text/plain": [
       "<matplotlib.figure.Figure at 0x28c7d175be0>"
      ]
     },
     "metadata": {},
     "output_type": "display_data"
    }
   ],
   "source": [
    "logger.plot(kind='bar')\n",
    "plt.show()"
   ]
  },
  {
   "cell_type": "markdown",
   "metadata": {},
   "source": [
    "## <center> Ratings\n",
    "\n",
    "---\n",
    "\n",
    "> **Linear Regression (Champion)**\n",
    "<center><img src='lr_rating.jpg'>\n",
    "\n",
    "> **Decision Tree (Challenger 2)**\n",
    "<center><img src='dt_rating.jpg'>\n",
    "\n",
    "> **Random Forest (Challenger 1)**\n",
    "<center><img src='rf_rating.jpg'>"
   ]
  }
 ],
 "metadata": {
  "kernelspec": {
   "display_name": "Python 3",
   "language": "python",
   "name": "python3"
  },
  "language_info": {
   "codemirror_mode": {
    "name": "ipython",
    "version": 3
   },
   "file_extension": ".py",
   "mimetype": "text/x-python",
   "name": "python",
   "nbconvert_exporter": "python",
   "pygments_lexer": "ipython3",
   "version": "3.5.3"
  }
 },
 "nbformat": 4,
 "nbformat_minor": 2
}
